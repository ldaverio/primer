{
 "cells": [
  {
   "cell_type": "markdown",
   "metadata": {
    "slideshow": {
     "slide_type": "slide"
    }
   },
   "source": [
    "<div class=\"licence\">\n",
    "<span>Licence CC BY-NC-ND</span>\n",
    "<span>Thierry Parmentelat</span>\n",
    "<span><img src=\"../media/inria-25-alpha.png\" /></span>\n",
    "</div>"
   ]
  },
  {
   "cell_type": "code",
   "execution_count": null,
   "metadata": {
    "slideshow": {
     "slide_type": "skip"
    }
   },
   "outputs": [],
   "source": [
    "%load_ext autoreload\n",
    "%autoreload 2"
   ]
  },
  {
   "cell_type": "markdown",
   "metadata": {
    "slideshow": {
     "slide_type": ""
    }
   },
   "source": [
    "# modules"
   ]
  },
  {
   "cell_type": "markdown",
   "metadata": {
    "slideshow": {
     "slide_type": "slide"
    }
   },
   "source": [
    "## bibliothèque standard\n",
    "\n",
    "un grand nombre d'outils installés d'office  \n",
    "pour des tâches très variées\n",
    "[voir liste complète](https://docs.python.org/3/library/#the-python-standard-library)  \n",
    "\n",
    "\n",
    "cette boite à outils est exposée au travers de **modules**  \n",
    "que l'on peut charger dans son appli grâce au mot-clé `import`"
   ]
  },
  {
   "cell_type": "markdown",
   "metadata": {
    "slideshow": {
     "slide_type": "slide"
    }
   },
   "source": [
    "## `import`"
   ]
  },
  {
   "cell_type": "code",
   "execution_count": null,
   "metadata": {
    "cell_style": "split"
   },
   "outputs": [],
   "source": [
    "# import permet de charger un code\n",
    "import math"
   ]
  },
  {
   "cell_type": "code",
   "execution_count": null,
   "metadata": {
    "cell_style": "split"
   },
   "outputs": [],
   "source": [
    "# cela définit une variable, ici 'math'\n",
    "# qui est une référence \n",
    "# vers un objet module\n",
    "math"
   ]
  },
  {
   "cell_type": "code",
   "execution_count": null,
   "metadata": {
    "cell_style": "split"
   },
   "outputs": [],
   "source": [
    "type(math)"
   ]
  },
  {
   "cell_type": "code",
   "execution_count": null,
   "metadata": {
    "cell_style": "split"
   },
   "outputs": [],
   "source": [
    "# cet objet possède des attributs\n",
    "# auxquels on peut accéder\n",
    "# avec la notation module.attribut\n",
    "\n",
    "math.pi"
   ]
  },
  {
   "cell_type": "markdown",
   "metadata": {
    "slideshow": {
     "slide_type": "slide"
    }
   },
   "source": [
    "## autres formes"
   ]
  },
  {
   "cell_type": "code",
   "execution_count": null,
   "metadata": {
    "cell_style": "split"
   },
   "outputs": [],
   "source": [
    "# avec cette forme on ne définit pas la variable math\n",
    "# mais directement la variable pi\n",
    "\n",
    "from math import pi\n",
    "pi"
   ]
  },
  {
   "cell_type": "code",
   "execution_count": null,
   "metadata": {
    "cell_style": "split"
   },
   "outputs": [],
   "source": [
    "# ici cos n'est pas défini\n",
    "\n",
    "math.cos(pi)"
   ]
  },
  {
   "cell_type": "markdown",
   "metadata": {
    "slideshow": {
     "slide_type": "slide"
    }
   },
   "source": [
    "## installation de librairies tierces\n",
    "\n",
    "si on a besoin d'installer un module  \n",
    "qui ne fait pas partie de la bibliothèque standard :\n",
    "\n",
    "* répertoire disponible sur <https://pypi.org/>\n",
    "* installation à faire avec l'outil `pip`  \n",
    "  (se lance depuis le terminal)\n"
   ]
  },
  {
   "cell_type": "code",
   "execution_count": null,
   "metadata": {
    "slideshow": {
     "slide_type": "slide"
    }
   },
   "outputs": [],
   "source": [
    "# cette astuce avec le ! me permet \n",
    "# d'appeler une commande normalement destinée au terminal\n",
    "# mais depuis Python\n",
    "\n",
    "!pip search nbautoeval"
   ]
  },
  {
   "cell_type": "code",
   "execution_count": null,
   "metadata": {},
   "outputs": [],
   "source": [
    "!pip install nbautoeval"
   ]
  },
  {
   "cell_type": "code",
   "execution_count": null,
   "metadata": {},
   "outputs": [],
   "source": [
    "import nbautoeval"
   ]
  },
  {
   "cell_type": "markdown",
   "metadata": {
    "slideshow": {
     "slide_type": "slide"
    }
   },
   "source": [
    "## c'est quoi un module ?"
   ]
  },
  {
   "cell_type": "markdown",
   "metadata": {},
   "source": [
    "un module est un objet Python qui correspond à un fichier (ou rép.) source  \n",
    "depuis cet objet vous pouvez accéder à des **attributs**  \n",
    "avec la notation `module.attribut`  \n",
    "  (qui est la même notion que, par ex., `str.capitalize`)  \n",
    "le module a autant d'attributs que d'objets globaux dans le source  \n",
    "dans le cas d'un répertoire les attributs référencent d'autres modules"
   ]
  },
  {
   "cell_type": "code",
   "execution_count": null,
   "metadata": {
    "cell_style": "split",
    "slideshow": {
     "slide_type": "slide"
    }
   },
   "outputs": [],
   "source": [
    "# regarder le contenu\n",
    "!cat mod.py"
   ]
  },
  {
   "cell_type": "code",
   "execution_count": null,
   "metadata": {
    "cell_style": "split"
   },
   "outputs": [],
   "source": [
    "import mod\n",
    "\n",
    "# tous les noms dans le module\n",
    "dir(mod)"
   ]
  },
  {
   "cell_type": "code",
   "execution_count": null,
   "metadata": {
    "cell_style": "split"
   },
   "outputs": [],
   "source": [
    "# une fois le bruit éliminé\n",
    "[x for x in dir(mod) if '__' not in x]"
   ]
  },
  {
   "cell_type": "markdown",
   "metadata": {
    "slideshow": {
     "slide_type": "slide"
    }
   },
   "source": [
    "## notion de point d'entrée"
   ]
  },
  {
   "cell_type": "markdown",
   "metadata": {},
   "source": [
    "votre programme Python est toujours exécuté par un interpréteur  \n",
    "qui \"commence\" quelque part: c'est le point d'entrée  "
   ]
  },
  {
   "cell_type": "markdown",
   "metadata": {
    "cell_style": "split"
   },
   "source": [
    "si vous lancez  \n",
    "```bash\n",
    "$ python3 foo.py\n",
    "```"
   ]
  },
  {
   "cell_type": "markdown",
   "metadata": {
    "cell_style": "split"
   },
   "source": [
    "le point d'entrée dans ce cas est   \n",
    "(le module correspondant à) `foo.py`"
   ]
  },
  {
   "cell_type": "markdown",
   "metadata": {
    "slideshow": {
     "slide_type": "slide"
    }
   },
   "source": [
    "## recherche des modules\n",
    "\n",
    "Python recherche les modules dans plusieurs d'endroits (répertoires)\n",
    "\n",
    "* le répertoire qui contient le point d'entrée  \n",
    "* en option, la variable d'environnement `PYTHONPATH`\n",
    "* là où sont installés les morceaux de la librairie standard\n",
    "\n",
    "conseil : évitez de bidouiller `PYTHONPATH`"
   ]
  },
  {
   "cell_type": "markdown",
   "metadata": {
    "slideshow": {
     "slide_type": "slide"
    }
   },
   "source": [
    "## organisation de votre code\n",
    "\n",
    "cela signifie que pour commencer,  \n",
    "on peut sans souci couper son code en fichiers  \n",
    "et les mettre tous dans le même répertoire  "
   ]
  },
  {
   "cell_type": "markdown",
   "metadata": {
    "slideshow": {
     "slide_type": ""
    }
   },
   "source": [
    "c'est une pratique courante et recommandée  \n",
    "il faut apprendre à découper  \n",
    "notamment pour augmenter la réutilisabilité  "
   ]
  },
  {
   "cell_type": "markdown",
   "metadata": {
    "slideshow": {
     "slide_type": "slide"
    }
   },
   "source": [
    "## librairies utiles\n",
    "\n",
    "liste largement non exhaustive\n",
    "\n",
    "* gestion des fichiers: `from pathlib import Path`  \n",
    "* génération de nombres aléatoires `import random`\n",
    "* télécharger depuis Internet: `import requests` \n",
    "* ouverture de fichiers au format JSON: `import json` (standard)\n",
    "\n",
    "* Python scientifique: `numpy`, `pandas`, `matplotlib`, ...\n"
   ]
  },
  {
   "cell_type": "markdown",
   "metadata": {
    "slideshow": {
     "slide_type": "slide"
    }
   },
   "source": [
    "## module `pathlib` "
   ]
  },
  {
   "cell_type": "markdown",
   "metadata": {},
   "source": [
    "fait partie de la librairie standard  \n",
    "permet de faire des calculs sur les fichiers  \n",
    "\n",
    "* lister les fichiers présents\n",
    "* calculs sur les chemins et noms de fichier  \n",
    "* accéder aux métadata (taille, date, ...)"
   ]
  },
  {
   "cell_type": "code",
   "execution_count": null,
   "metadata": {
    "cell_style": "center",
    "slideshow": {
     "slide_type": "slide"
    }
   },
   "outputs": [],
   "source": [
    "# ici Path correspond à une classe \n",
    "# on verra la théorie très bientôt\n",
    "from pathlib import Path\n",
    "\n",
    "local_files = Path('.').glob('*.ipynb')\n",
    "\n",
    "# observons le premier fichier trouvé\n",
    "for file in local_files:\n",
    "    print('name', file.name)\n",
    "    print('stem', file.stem)\n",
    "    print('suffix', file.suffix)\n",
    "    print('absolute()', file.absolute())\n",
    "    print('size', file.stat().st_size)\n",
    "    break"
   ]
  },
  {
   "cell_type": "markdown",
   "metadata": {
    "slideshow": {
     "slide_type": "slide"
    }
   },
   "source": [
    "## module `random`"
   ]
  },
  {
   "cell_type": "markdown",
   "metadata": {},
   "source": [
    "une fois que vous avez le nom du module,  \n",
    "il vous suffit de consulter [la doc complète](https://docs.python.org/3/library/random.html)  \n",
    "pour cela taper dans google `python random module` "
   ]
  },
  {
   "cell_type": "code",
   "execution_count": null,
   "metadata": {
    "cell_style": "split"
   },
   "outputs": [],
   "source": [
    "import random\n",
    "\n",
    "# entre 0 et 1\n",
    "random.random()"
   ]
  },
  {
   "cell_type": "code",
   "execution_count": null,
   "metadata": {
    "cell_style": "split"
   },
   "outputs": [],
   "source": [
    "# un entier entre deux bornes\n",
    "# inclusivement\n",
    "random.randint(0, 10)"
   ]
  },
  {
   "cell_type": "markdown",
   "metadata": {
    "slideshow": {
     "slide_type": "slide"
    }
   },
   "source": [
    "## module `requests`"
   ]
  },
  {
   "cell_type": "markdown",
   "metadata": {},
   "source": [
    "télécharger du contenu depuis une URL  \n",
    "accéder à l'entête http   \n",
    "plus flexible que l'équivalent dans la librairie standard `urllib2`  "
   ]
  },
  {
   "cell_type": "code",
   "execution_count": null,
   "metadata": {
    "slideshow": {
     "slide_type": "slide"
    }
   },
   "outputs": [],
   "source": [
    "import requests\n",
    "\n",
    "url = \"\"\n",
    "url = \"https://github.com/timeline.json\"\n",
    "\n",
    "request = requests.get(url)\n",
    "\n",
    "print(f\"code de retour HTTP: {request.status_code}\") "
   ]
  },
  {
   "cell_type": "code",
   "execution_count": null,
   "metadata": {
    "cell_style": "split"
   },
   "outputs": [],
   "source": [
    "raw_content = request.text\n",
    "# une chaine de caractères\n",
    "type(raw_content)"
   ]
  },
  {
   "cell_type": "code",
   "execution_count": null,
   "metadata": {
    "cell_style": "split"
   },
   "outputs": [],
   "source": [
    "# le début de cette chaine\n",
    "raw_content[:120]"
   ]
  },
  {
   "cell_type": "markdown",
   "metadata": {
    "slideshow": {
     "slide_type": "slide"
    }
   },
   "source": [
    "## module `json`\n",
    "\n",
    "le cas qu'on vient de voir est très fréquent  \n",
    "JSON est un format texte (compatible réseau donc Internet)  \n",
    "mais qui conserve un minimum de structure :\n",
    "permet de transmettre listes et dictionnaires"
   ]
  },
  {
   "cell_type": "code",
   "execution_count": null,
   "metadata": {
    "cell_style": "split"
   },
   "outputs": [],
   "source": [
    "# pour décoder le JSON qu'on a lu\n",
    "\n",
    "import json\n",
    "\n",
    "decoded = json.loads(raw_content)\n",
    "type(decoded)"
   ]
  },
  {
   "cell_type": "code",
   "execution_count": null,
   "metadata": {
    "cell_style": "split"
   },
   "outputs": [],
   "source": [
    "# cette fois on a un peu \n",
    "# de structure\n",
    "for k, v in decoded.items():\n",
    "    print(f\"{k}\\n\\t{v[:10]}...\")"
   ]
  },
  {
   "cell_type": "markdown",
   "metadata": {
    "slideshow": {
     "slide_type": "slide"
    }
   },
   "source": [
    "## gestion de fichiers"
   ]
  },
  {
   "cell_type": "code",
   "execution_count": null,
   "metadata": {
    "cell_style": "center"
   },
   "outputs": [],
   "source": [
    "# pour écrire dans un fichier \n",
    "with open(\"tutu.txt\", \"w\") as writer:\n",
    "    for i in range(4):\n",
    "        print(f\"i={i}\", file=writer)"
   ]
  },
  {
   "cell_type": "markdown",
   "metadata": {
    "cell_style": "center"
   },
   "source": [
    "`with` ouvre un fichier `tutu.txt`  \n",
    "  et crée la variable `writer` de type `File`  \n",
    "visible dans le `with`  \n",
    "`print()` écrit dans ce fichier  \n",
    "`with` ferme le fichier à la sortie"
   ]
  },
  {
   "cell_type": "markdown",
   "metadata": {
    "slideshow": {
     "slide_type": "slide"
    }
   },
   "source": [
    "## fichiers - suite"
   ]
  },
  {
   "cell_type": "code",
   "execution_count": null,
   "metadata": {
    "cell_style": "split"
   },
   "outputs": [],
   "source": [
    "# à l'envers, on relit le fichier\n",
    "with open('tutu.txt') as reader:\n",
    "    for line in reader:\n",
    "        print(line, end=\"\")"
   ]
  },
  {
   "cell_type": "markdown",
   "metadata": {
    "cell_style": "split"
   },
   "source": [
    "sans préciser le mode d'ouverture  \n",
    "`open` ouvre le fichier en lecture  \n",
    "l'objet `File` est **itérable**  \n",
    "la variable `line` contient une fin de ligne  \n",
    "pas besoin que `print` en rajoute une"
   ]
  },
  {
   "cell_type": "markdown",
   "metadata": {
    "slideshow": {
     "slide_type": "slide"
    }
   },
   "source": [
    "## exercice\n",
    "\n",
    "écrire une fonction qui retourne :\n",
    "\n",
    "* une chaine de caractères \n",
    "* qui correspond à l'encodage en JSON\n",
    "* d'une liste contenant - au hasard - entre 2 et 5 valeurs numériques\n",
    "* elles-mêmes tirées au hasard dans l'intervalle $[2 .. 5]$"
   ]
  },
  {
   "cell_type": "code",
   "execution_count": null,
   "metadata": {
    "cell_style": "center"
   },
   "outputs": [],
   "source": [
    "# n'oubliez pas d'importer les modules \n",
    "# dont vous avez besoin\n",
    "\n",
    "\n",
    "def random_json():\n",
    "    \"\"\"\n",
    "    returns a JSON-encoded of a list\n",
    "    of 2 to 5 values between 2 and 5    \n",
    "    \"\"\"\n",
    "    # votre code ici\n",
    "    pass"
   ]
  },
  {
   "cell_type": "code",
   "execution_count": null,
   "metadata": {},
   "outputs": [],
   "source": [
    "from check_random_json import check_random_json\n",
    "\n",
    "check_random_json(random_json)"
   ]
  }
 ],
 "metadata": {
  "celltoolbar": "Slideshow",
  "ipub": {
   "sphinx": {
    "toggle_input": true,
    "toggle_input_all": true,
    "toggle_output": true,
    "toggle_output_all": true
   }
  },
  "kernelspec": {
   "display_name": "Python 3",
   "language": "python",
   "name": "python3"
  },
  "language_info": {
   "codemirror_mode": {
    "name": "ipython",
    "version": 3
   },
   "file_extension": ".py",
   "mimetype": "text/x-python",
   "name": "python",
   "nbconvert_exporter": "python",
   "pygments_lexer": "ipython3",
   "version": "3.7.3"
  },
  "notebookname": "modules",
  "rise": {
   "autolaunch": true,
   "slideNumber": "c/t",
   "start_slideshow_at": "selected",
   "theme": "sky",
   "transition": "cube"
  },
  "version": "1.0"
 },
 "nbformat": 4,
 "nbformat_minor": 2
}
