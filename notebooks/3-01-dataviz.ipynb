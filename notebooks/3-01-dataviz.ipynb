{
 "cells": [
  {
   "cell_type": "markdown",
   "metadata": {},
   "source": [
    "<div class=\"licence\">\n",
    "<span>Licence CC BY-NC-ND</span>\n",
    "<span>Valérie Roy</span>\n",
    "<span><img src=\"../media/ensmp-25-alpha.png\" /></span>\n",
    "</div>"
   ]
  },
  {
   "cell_type": "markdown",
   "metadata": {},
   "source": [
    "# data visualization in Python"
   ]
  },
  {
   "cell_type": "markdown",
   "metadata": {},
   "source": [
    "See also\n",
    "\n",
    "- https://github.com/rougier/matplotlib-tutorial#introduction\n",
    "- https://www.labri.fr/perso/nrougier/python-opengl/"
   ]
  },
  {
   "cell_type": "markdown",
   "metadata": {
    "slideshow": {
     "slide_type": "slide"
    }
   },
   "source": [
    "## matplotlib"
   ]
  },
  {
   "cell_type": "markdown",
   "metadata": {},
   "source": [
    "   - the project started in $\\approx$ **2003**\n",
    "   - it is inspired by **MATLAB**\n",
    "   - it was the first **Python data visualization** library\n",
    "   - and it is **for the time being** the **most popular** library\n",
    "   - there is an **active developer community**\n",
    "   - its **license** is **based** on the **Python Software Foundation** (PSF) **license**\n",
    "   - https://matplotlib.org/"
   ]
  },
  {
   "cell_type": "markdown",
   "metadata": {},
   "source": [
    "   - it is a **2D plotting** library\n",
    "   - it can be used with the **Jupyter notebook**\n",
    "   - the **3d plotting** is a **mpl toolkit** (*from mpl_toolkits.mplot3d import Axes3D*)"
   ]
  },
  {
   "cell_type": "markdown",
   "metadata": {
    "slideshow": {
     "slide_type": "slide"
    }
   },
   "source": [
    "   - it has a **concise syntax**\n",
    "   - it is rather **simple** and **powerful**\n",
    "   - it **heavily** uses **numpy** for **performance** on **large arrays**\n",
    "   - some other libraries are **built** on top of **matplotlib** (e.g. **seaborn**)\n",
    "   - **pandas** has **wrappers** over **matplotlib**"
   ]
  },
  {
   "cell_type": "markdown",
   "metadata": {
    "slideshow": {
     "slide_type": "slide"
    }
   },
   "source": [
    "   - it offers the **classic** functionnalities:  \n",
    "    **plots**, **histograms**, **bar charts**, **scatterplots**, ...\n",
    "   - https://matplotlib.org/gallery/index.html\n",
    "   \n",
    "   \n",
    "   - that you can **customize** with **texts**, **grids**, **labels**, **legends**, ...   \n",
    "   - **parameters** control **colors**, **line styles**, **font properties**, **axes properties**, ...\n",
    "   \n",
    "   \n",
    "   - https://matplotlib.org/api/pyplot_summary.html"
   ]
  },
  {
   "cell_type": "markdown",
   "metadata": {
    "slideshow": {
     "slide_type": "slide"
    }
   },
   "source": [
    "##  imports of the **libraries**\n",
    "   - **plots** are done by the *matplotlib.pyplot* **functions**\n",
    "   - **by convention** *matplotlib.pyplot* is **named** *plt*"
   ]
  },
  {
   "cell_type": "code",
   "execution_count": null,
   "metadata": {},
   "outputs": [],
   "source": [
    "# pyplot is the interface to the matplotlib plotting library\n",
    "import matplotlib.pyplot as plt\n",
    "\n",
    "# this is the magic to obtain plots in the notebook\n",
    "# probably not required in recent versions of Jupyter\n",
    "%matplotlib inline"
   ]
  },
  {
   "cell_type": "code",
   "execution_count": null,
   "metadata": {},
   "outputs": [],
   "source": [
    "import pandas as pd\n",
    "import numpy as np"
   ]
  },
  {
   "cell_type": "markdown",
   "metadata": {
    "slideshow": {
     "slide_type": "slide"
    }
   },
   "source": [
    "## line plot and scatter plot\n",
    "\n",
    "   - we **create** an **array** *x* with **values** linearly spaced between $0$ and $2\\pi$\n",
    "   - we **get** a *numpy.ndarray* "
   ]
  },
  {
   "cell_type": "code",
   "execution_count": null,
   "metadata": {},
   "outputs": [],
   "source": [
    "x = np.linspace(0, 2*np.pi, 50)"
   ]
  },
  {
   "cell_type": "markdown",
   "metadata": {},
   "source": [
    "   - we **create** an **array** *y* by **computing** the **sinus** of the values of *x*\n",
    "   - we **create** an **array** *z* by **computing** the **cosinus** of the values of *x*\n",
    "   - we **get** two *numpy.ndarray* "
   ]
  },
  {
   "cell_type": "code",
   "execution_count": null,
   "metadata": {},
   "outputs": [],
   "source": [
    "y = np.sin(x)\n",
    "z = np.cos(x)"
   ]
  },
  {
   "cell_type": "markdown",
   "metadata": {
    "slideshow": {
     "slide_type": "slide"
    }
   },
   "source": [
    "   - *pyplot.plot(x, y)*  **plots** **y** versus **x** with varying **linesize**, **color**, etc.\n",
    "   - *pyplot.scatter* **scatter plots** of **y** versus **x** with varying **marker** **shape**, **size** and **color**"
   ]
  },
  {
   "cell_type": "code",
   "execution_count": null,
   "metadata": {},
   "outputs": [],
   "source": [
    "plt.plot(x, y)\n",
    "plt.scatter(x, z);"
   ]
  },
  {
   "cell_type": "markdown",
   "metadata": {},
   "source": [
    "   - we obtain a **plot** with the **default** settings"
   ]
  },
  {
   "cell_type": "markdown",
   "metadata": {
    "slideshow": {
     "slide_type": "slide"
    }
   },
   "source": [
    "### improving the plot"
   ]
  },
  {
   "cell_type": "markdown",
   "metadata": {},
   "source": [
    "with **parameters** and **methods**, we can **add** to the **plot**:\n",
    "   - a **title**\n",
    "   - **legends** to the **axis**\n",
    "   - **labels** to the **plots**\n",
    "   - with different **font sizes**...\n",
    "   \n",
    "Note that you can use LaTeX markup in strings (e.g. \"2 \\pi\" between dollar signs renders as $2 \\pi$)."
   ]
  },
  {
   "cell_type": "code",
   "execution_count": null,
   "metadata": {
    "slideshow": {
     "slide_type": "slide"
    }
   },
   "outputs": [],
   "source": [
    "x = np.linspace(0, 2*np.pi, 50); y = np.sin(x)\n",
    "\n",
    "plt.title('trigonometric functions of angles between 0 and $2 \\pi$', fontsize=20)\n",
    "\n",
    "plt.xlabel('x coordinate', fontsize=18) # name of axis x\n",
    "plt.ylabel('y coordinate') # name of axis y\n",
    "\n",
    "plt.plot(x, y, label='sinus'); plt.scatter(x, z, label='cosinus')\n",
    "\n",
    "plt.legend(fontsize=12) # show the legend, i.e. labels of lines/markers\n",
    "plt.show(); # not mandatory in jupyter notebooks !"
   ]
  },
  {
   "cell_type": "markdown",
   "metadata": {
    "slideshow": {
     "slide_type": "slide"
    }
   },
   "source": [
    "   - we can **vary** marker, color, size, linewidth"
   ]
  },
  {
   "cell_type": "code",
   "execution_count": null,
   "metadata": {
    "cell_style": "split"
   },
   "outputs": [],
   "source": [
    "x = np.arange(1, 10)\n",
    "y = np.power(x, 2)\n",
    "plt.plot(x, y, color='orange',\n",
    "         linestyle='--',\n",
    "         linewidth=3);"
   ]
  },
  {
   "cell_type": "code",
   "execution_count": null,
   "metadata": {
    "cell_style": "split",
    "slideshow": {
     "slide_type": "-"
    }
   },
   "outputs": [],
   "source": [
    "# green, dashed line\n",
    "plt.plot(x, y, 'g--', linewidth=4)\n",
    "# red, square marker\n",
    "plt.plot(x, y, 'rs', markersize=15)\n",
    "# yellow, triangle marker\n",
    "plt.plot(x, y, 'y^', markersize=6);"
   ]
  },
  {
   "cell_type": "markdown",
   "metadata": {
    "cell_style": "split",
    "slideshow": {
     "slide_type": "slide"
    }
   },
   "source": [
    "varying colors and size with *plt.scatter*\n",
    "parameter `c`:\n",
    "   - list of numbers is mapped to **colors**\n",
    "   - there is an underlying **colormap**\n",
    "   - https://matplotlib.org/users/colormaps.html\n",
    "\n",
    "\n",
    "parameter `s`:\n",
    "   - the list of numbers is mapped to the size of the shapes   "
   ]
  },
  {
   "cell_type": "code",
   "execution_count": null,
   "metadata": {
    "cell_style": "split",
    "slideshow": {
     "slide_type": "-"
    }
   },
   "outputs": [],
   "source": [
    "x = np.arange(10)\n",
    "y = x + 10 * np.random.randn(10)\n",
    "\n",
    "# random values for colors\n",
    "z = np.random.randint(100, 10000, 10)\n",
    "# random values for size \n",
    "v = np.random.randint(100, 5000, 10)\n",
    "\n",
    "plt.scatter(x, y, marker='o',\n",
    "            c=z,\n",
    "            s=v,\n",
    "            cmap='Blues');"
   ]
  },
  {
   "cell_type": "markdown",
   "metadata": {
    "cell_style": "center",
    "slideshow": {
     "slide_type": "slide"
    }
   },
   "source": [
    "setting the limits of the **abscissa**\n",
    "   - here from $-2\\pi$ to $2\\pi$ \n",
    "   - (the same for the **oridnate**)"
   ]
  },
  {
   "cell_type": "code",
   "execution_count": null,
   "metadata": {
    "cell_style": "center"
   },
   "outputs": [],
   "source": [
    "plt.xlim(-2*np.pi, 2*np.pi)\n"
   ]
  },
  {
   "cell_type": "markdown",
   "metadata": {
    "slideshow": {
     "slide_type": "slide"
    }
   },
   "source": [
    "setting the number of **ticks** on the **abscissa** (the same for the **ordinate**)"
   ]
  },
  {
   "cell_type": "code",
   "execution_count": null,
   "metadata": {},
   "outputs": [],
   "source": [
    "plt.xticks(np.linspace(-2*np.pi, 2*np.pi, 10, endpoint=True));"
   ]
  },
  {
   "cell_type": "markdown",
   "metadata": {
    "slideshow": {
     "slide_type": "slide"
    }
   },
   "source": [
    "setting **tick labels** (the same for the **ordinate**))\n"
   ]
  },
  {
   "cell_type": "code",
   "execution_count": null,
   "metadata": {
    "slideshow": {
     "slide_type": ""
    }
   },
   "outputs": [],
   "source": [
    "plt.xticks([-2*np.pi, -np.pi, 0, np.pi/2, np.pi, 2*np.pi],\n",
    "           ['$-2\\pi$', '$-\\pi$', 0, '$\\pi/2$', '$\\pi$', '$2\\pi$']);"
   ]
  },
  {
   "cell_type": "markdown",
   "metadata": {
    "slideshow": {
     "slide_type": "slide"
    }
   },
   "source": [
    "example of the whole figure"
   ]
  },
  {
   "cell_type": "code",
   "execution_count": null,
   "metadata": {},
   "outputs": [],
   "source": [
    "x = np.linspace(-np.pi, np.pi, 50)\n",
    "y = np.sin(x)\n",
    "\n",
    "plt.xlim(-4, 4) \n",
    "plt.xticks(np.linspace(-4, 4, 10, endpoint=True))\n",
    "\n",
    "plt.ylim(-1, 1)\n",
    "plt.yticks(np.linspace(-2, 2, 10, endpoint=True))\n",
    "\n",
    "plt.plot(x, y);"
   ]
  },
  {
   "cell_type": "markdown",
   "metadata": {
    "slideshow": {
     "slide_type": "slide"
    }
   },
   "source": [
    "### writing **text**   [**OPTIONAL SLIDE**]"
   ]
  },
  {
   "cell_type": "code",
   "execution_count": null,
   "metadata": {},
   "outputs": [],
   "source": [
    "plt.text(0.5, 0.5, 'I wrote here !', fontsize=20, bbox=dict(facecolor='red', alpha=0.5));"
   ]
  },
  {
   "cell_type": "markdown",
   "metadata": {
    "slideshow": {
     "slide_type": "slide"
    }
   },
   "source": [
    "annotating features on a plot [**OPTIONAL SLIDE**]\n",
    "   - with *plt.annotate* **text** can be used to **point** some **feature** of the **plot**\n",
    "  - you give **two points**:\n",
    "     - the **location** being **annotated** (parameter *xy*)\n",
    "     - the **location** of the **text** (parameter *xytext*)\n",
    "     - you can add an **arrow** that will point toward the **point**"
   ]
  },
  {
   "cell_type": "markdown",
   "metadata": {
    "slideshow": {
     "slide_type": "slide"
    }
   },
   "source": [
    "annotating example  [**OPTIONAL SLIDE**]"
   ]
  },
  {
   "cell_type": "code",
   "execution_count": null,
   "metadata": {
    "slideshow": {
     "slide_type": "-"
    }
   },
   "outputs": [],
   "source": [
    "plt.scatter([0, 1, 2], [0, 1, 2], color='magenta')\n",
    "\n",
    "plt.annotate('a point', xy=(0, 0), xytext=(0.25, 0.251),\n",
    "             arrowprops=dict())\n",
    "\n",
    "plt.annotate('not a point', xy=(1, 2), xytext=(0.15, 1.75),\n",
    "             arrowprops=dict(arrowstyle='fancy'))"
   ]
  },
  {
   "cell_type": "markdown",
   "metadata": {
    "slideshow": {
     "slide_type": "slide"
    }
   },
   "source": [
    "### you can **save** the **plots**  [**OPTIONAL SLIDE**]"
   ]
  },
  {
   "cell_type": "code",
   "execution_count": null,
   "metadata": {},
   "outputs": [],
   "source": [
    "# uncomment to get the doc\n",
    "#plt.savefig?"
   ]
  },
  {
   "cell_type": "code",
   "execution_count": null,
   "metadata": {},
   "outputs": [],
   "source": [
    "x = np.linspace(-10, 10, 50)\n",
    "y = np.power(x, 2)\n",
    "plt.title('$y = x^2$', fontsize=20)\n",
    "plt.xlabel('x')\n",
    "plt.ylabel('$x^2$')\n",
    "plt.plot(x, y, label='$x^2$')\n",
    "plt.legend(fontsize=12)\n",
    "\n",
    "plt.savefig('my_figure.png')"
   ]
  },
  {
   "cell_type": "markdown",
   "metadata": {
    "slideshow": {
     "slide_type": "slide"
    }
   },
   "source": [
    "### plotting an array as an **image** [**OPTIONAL SLIDE**]\n",
    "\n",
    "on a 2D regular raster"
   ]
  },
  {
   "cell_type": "code",
   "execution_count": null,
   "metadata": {},
   "outputs": [],
   "source": [
    "# we create an array\n",
    "i = np.random.random((50, 100)) # numbers between [0, 1["
   ]
  },
  {
   "cell_type": "code",
   "execution_count": null,
   "metadata": {},
   "outputs": [],
   "source": [
    "# we plot the array as an image\n",
    "my_map = plt.imshow(i)"
   ]
  },
  {
   "cell_type": "code",
   "execution_count": null,
   "metadata": {
    "slideshow": {
     "slide_type": "slide"
    }
   },
   "outputs": [],
   "source": [
    "# color map, transparency (alpha)\n",
    "plt.imshow(i, cmap=plt.cm.Blues, alpha=0.5) \n",
    "plt.colorbar();"
   ]
  },
  {
   "cell_type": "markdown",
   "metadata": {
    "slideshow": {
     "slide_type": "slide"
    }
   },
   "source": [
    "***\n",
    "this first small introduction to matplotlib can be completed by the notebooks:\n",
    "   - `3-13-dataviz-pandas-dataframe-plot-and-boxplot.ipyn`\n",
    "   - `3-14-dataviz-3D-plots.ipynb`\n",
    "   - `3-15-customizing-matplotlib.ipynb`\n",
    "   - `3-16-dataviz-figure-and-axe.ipynb`"
   ]
  }
 ],
 "metadata": {
  "celltoolbar": "Slideshow",
  "ipub": {
   "sphinx": {
    "toggle_input": true,
    "toggle_input_all": true,
    "toggle_output": true,
    "toggle_output_all": true
   }
  },
  "kernelspec": {
   "display_name": "Python 3",
   "language": "python",
   "name": "python3"
  },
  "language_info": {
   "codemirror_mode": {
    "name": "ipython",
    "version": 3
   },
   "file_extension": ".py",
   "mimetype": "text/x-python",
   "name": "python",
   "nbconvert_exporter": "python",
   "pygments_lexer": "ipython3",
   "version": "3.7.3"
  },
  "notebookname": "dataviz in Python",
  "rise": {
   "autolaunch": true,
   "slideNumber": "c/t",
   "start_slideshow_at": "selected",
   "theme": "sky",
   "transition": "cube"
  },
  "version": "1.0"
 },
 "nbformat": 4,
 "nbformat_minor": 4
}
