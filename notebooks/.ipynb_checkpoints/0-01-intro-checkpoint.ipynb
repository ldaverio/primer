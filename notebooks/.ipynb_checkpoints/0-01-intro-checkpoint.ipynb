{
 "cells": [
  {
   "cell_type": "markdown",
   "metadata": {
    "slideshow": {
     "slide_type": "slide"
    }
   },
   "source": [
    "<div class=\"licence\">\n",
    "<span>Licence CC BY-NC-ND</span>\n",
    "<span>Thierry Parmentelat</span>\n",
    "<span><img src=\"media/inria-25-alpha.png\" /></span>\n",
    "</div>"
   ]
  },
  {
   "cell_type": "markdown",
   "metadata": {
    "slideshow": {
     "slide_type": ""
    }
   },
   "source": [
    "# Introduction\n",
    "\n",
    "**Cours Python / numérique / dataviz**"
   ]
  },
  {
   "cell_type": "markdown",
   "metadata": {
    "slideshow": {
     "slide_type": "slide"
    }
   },
   "source": [
    "## programme\n",
    "\n",
    "* pré-requis pour autres cours  \n",
    " (notamment mathématiques)\n",
    "* 3 x 3h\n",
    "  * le langage Python \n",
    "  * Python numérique (`numpy`)\n",
    "  * préparation (`pandas`) et  \n",
    "    visualisation (`matplotlib`) des données"
   ]
  },
  {
   "cell_type": "markdown",
   "metadata": {
    "slideshow": {
     "slide_type": "slide"
    }
   },
   "source": [
    "## objectifs\n",
    "\n",
    "* vernis sur les concepts du langage\n",
    "* et sur les outils de base  \n",
    "  de calcul scientifique\n",
    "* être capable de lire du code simple\n",
    "* d'écrire du code simple\n",
    "* de mettre en oeuvre dans un notebook\n",
    "* et progressivement dans des programmes autonomes  \n",
    "  (pas forcément pendant cette première série de 3 cours)"
   ]
  },
  {
   "cell_type": "markdown",
   "metadata": {
    "slideshow": {
     "slide_type": "slide"
    }
   },
   "source": [
    "## outils utilisés\n",
    "\n",
    "* `nbhosting.inria.fr` : notebooks prêt à l'emploi  \n",
    "  aucune installation nécessaire\n",
    "* *\"handout\"* au format html : https://flotpython-primer.readthedocs.io\n",
    "* forum de discussion https://discourse.mines-paristech.fr`  \n",
    "  \n",
    "* terminal (de préférence *bash*)\n",
    "* un éditeur de texte"
   ]
  }
 ],
 "metadata": {
  "celltoolbar": "Slideshow",
  "ipub": {
   "sphinx": {
    "toggle_input": true,
    "toggle_input_all": true,
    "toggle_output": true,
    "toggle_output_all": true
   }
  },
  "kernelspec": {
   "display_name": "Python 3",
   "language": "python",
   "name": "python3"
  },
  "language_info": {
   "codemirror_mode": {
    "name": "ipython",
    "version": 3
   },
   "file_extension": ".py",
   "mimetype": "text/x-python",
   "name": "python",
   "nbconvert_exporter": "python",
   "pygments_lexer": "ipython3",
   "version": "3.7.4"
  },
  "notebookname": "Intro",
  "rise": {
   "autolaunch": true,
   "slideNumber": "c/t",
   "start_slideshow_at": "selected",
   "theme": "sky",
   "transition": "cube"
  },
  "version": "1.0"
 },
 "nbformat": 4,
 "nbformat_minor": 2
}
