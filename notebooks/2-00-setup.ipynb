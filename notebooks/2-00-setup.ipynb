{
 "cells": [
  {
   "cell_type": "markdown",
   "metadata": {},
   "source": [
    "<div class=\"licence\">\n",
    "<span>Licence CC BY-NC-ND</span>\n",
    "<span>Valérie Roy</span>\n",
    "<span><img src=\"../media/ensmp-25-alpha.png\" /></span>\n",
    "</div>"
   ]
  },
  {
   "cell_type": "markdown",
   "metadata": {
    "slideshow": {
     "slide_type": "slide"
    }
   },
   "source": [
    "# primer python-numérique numpy\n",
    "\n",
    "   - https://docs.scipy.org/doc/numpy/reference/\n",
    "   - http://scipy-lectures.org/intro/index.html"
   ]
  },
  {
   "cell_type": "markdown",
   "metadata": {
    "slideshow": {
     "slide_type": "slide"
    }
   },
   "source": [
    "## a quick story of numpy\n",
    "   - **Numpy 1.0** in 2006\n",
    "   - reused old projects **Numeric** and **Numarray**\n",
    "   - no single coordinator, no single aim\n",
    "   - *Guido van Rossum* refused to add Numeric in the Python standard library\n",
    "      + (code not maintainable)\n",
    "   - *Travis Oliphant* merged Numeric and Numarray to create **numpy**\n",
    "\n",
    "\n",
    "   - many *numpy* operations are programmed in **C** making it faster."
   ]
  },
  {
   "cell_type": "markdown",
   "metadata": {
    "slideshow": {
     "slide_type": "slide"
    }
   },
   "source": [
    "## setting-up your environment \"Python for Data Science\"\n",
    "\n",
    "**mathematic and computer science courses** will use **python**, **Ipython** and **Jupyter notebook**\n",
    "\n",
    " you have two **distinct** ways to **work**:\n",
    " \n",
    "   1. you access the **remote hosting of notebooks**\n",
    "\n",
    "   1. you install and run **everything locally on your computer**"
   ]
  },
  {
   "cell_type": "markdown",
   "metadata": {
    "slideshow": {
     "slide_type": "slide"
    }
   },
   "source": [
    "## accessing a remote *hosting of notebooks*\n",
    "\n",
    "   - the remote hosting is here https://nbhosting.inria.fr\n",
    "   - you have a **login/password** and a **private** environment\n",
    "   - your changes will be **preserved** (code of your exercises, ...)\n",
    "   \n",
    "   \n",
    "this solution is **very useful**\n",
    "   - the courses and the exercises are always **available**\n",
    "   - you **only** need a **browser** and an Internet **connection**"
   ]
  },
  {
   "cell_type": "markdown",
   "metadata": {
    "slideshow": {
     "slide_type": "slide"
    }
   },
   "source": [
    "##  installing and running *everything locally on your computer*"
   ]
  },
  {
   "cell_type": "markdown",
   "metadata": {
    "slideshow": {
     "slide_type": "-"
    }
   },
   "source": [
    "this solution is **more demanding**, you need to be **more confident**:\n",
    "   - with **git** (cloning repos)\n",
    "   - with the installation of software and libraries on your computer\n",
    "   \n",
    "see the **posts** on this subject on **discourse**\n",
    "   - https://discourse.mines-paristech.fr/t/problemes-dinstallation-des-logiciels/154\n",
    "   \n",
    "see the explanations on the git repo of this course\n",
    "   - https://github.com/flotpython/primer/blob/master/howto/README.md"
   ]
  }
 ],
 "metadata": {
  "celltoolbar": "Slideshow",
  "ipub": {
   "sphinx": {
    "toggle_input": true,
    "toggle_input_all": true,
    "toggle_output": true,
    "toggle_output_all": true
   }
  },
  "kernelspec": {
   "display_name": "Python 3",
   "language": "python",
   "name": "python3"
  },
  "language_info": {
   "codemirror_mode": {
    "name": "ipython",
    "version": 3
   },
   "file_extension": ".py",
   "mimetype": "text/x-python",
   "name": "python",
   "nbconvert_exporter": "python",
   "pygments_lexer": "ipython3",
   "version": "3.7.3"
  },
  "notebookname": "setting up your environment",
  "rise": {
   "autolaunch": true,
   "slideNumber": "c/t",
   "start_slideshow_at": "selected",
   "theme": "sky",
   "transition": "cube"
  },
  "version": "1.0"
 },
 "nbformat": 4,
 "nbformat_minor": 2
}
