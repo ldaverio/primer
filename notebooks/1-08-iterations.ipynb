{
 "cells": [
  {
   "cell_type": "markdown",
   "metadata": {
    "slideshow": {
     "slide_type": "slide"
    }
   },
   "source": [
    "<div class=\"licence\">\n",
    "<span>Licence CC BY-NC-ND</span>\n",
    "<span>Thierry Parmentelat</span>\n",
    "<span><img src=\"../media/inria-25-alpha.png\" /></span>\n",
    "</div>"
   ]
  },
  {
   "cell_type": "markdown",
   "metadata": {
    "slideshow": {
     "slide_type": ""
    }
   },
   "source": [
    "# itérations"
   ]
  },
  {
   "cell_type": "markdown",
   "metadata": {
    "slideshow": {
     "slide_type": "slide"
    }
   },
   "source": [
    "## boucle `for` "
   ]
  },
  {
   "cell_type": "markdown",
   "metadata": {
    "cell_style": "split"
   },
   "source": [
    "**rappel** pour itérer sur une liste ou un ensemble :\n",
    "\n",
    "```python\n",
    "for item in container:\n",
    "   ...\n",
    "```"
   ]
  },
  {
   "cell_type": "markdown",
   "metadata": {
    "cell_style": "split"
   },
   "source": [
    "sur un dictionnaire\n",
    "\n",
    "```python\n",
    "for cle, valeur in d.items():\n",
    "    ...\n",
    "```"
   ]
  },
  {
   "cell_type": "markdown",
   "metadata": {},
   "source": [
    "en fait on peut itérer sur un grand nombre d'objets  \n",
    "que par définition on appelle **itérables**  \n",
    "dont une sous-famille remarquable est celle des **itérateurs**"
   ]
  },
  {
   "cell_type": "markdown",
   "metadata": {
    "slideshow": {
     "slide_type": "slide"
    }
   },
   "source": [
    "## itérateurs\n",
    "\n",
    "vous voulez faire une boucle `for` sur les entiers de 0 à $10^6$  \n",
    "avec ce qu'on a vu jusqu'ici, on serait tenté de  \n",
    "1. construire une liste avec les entiers de 0 à 1 million  \n",
    "2. et itérer sur cette liste avec un `for`\n"
   ]
  },
  {
   "cell_type": "markdown",
   "metadata": {},
   "source": [
    "**MAIS** ce n'est pas une bonne idée  \n",
    "notamment car ça demande une grosse **allocation mémoire**  \n",
    "qui est loin d'être gratuite en termes de performance  \n",
    "en fait pour faire cette énumération  \n",
    "on n'a besoin que d'**une seule case mémoire** \n",
    "\n",
    "```c++\n",
    "// en C++ on écrirait quelque chose comme\n",
    "for (int i=0; i<=1000000; i++) {\n",
    "    ...\n",
    "}\n",
    "```"
   ]
  },
  {
   "cell_type": "markdown",
   "metadata": {
    "slideshow": {
     "slide_type": "slide"
    }
   },
   "source": [
    "## `range()` "
   ]
  },
  {
   "cell_type": "markdown",
   "metadata": {
    "cell_style": "split"
   },
   "source": [
    "Python offre pour cela une fonction prédéfinie `range(n)`"
   ]
  },
  {
   "cell_type": "code",
   "execution_count": null,
   "metadata": {
    "cell_style": "split"
   },
   "outputs": [],
   "source": [
    "for i in range(4):\n",
    "    print(i)"
   ]
  },
  {
   "cell_type": "markdown",
   "metadata": {},
   "source": [
    "le résultat de la fonction `range()` **n'est pas une liste**  \n",
    "c'est ce qu'on appelle un **itérateur**  \n",
    "c'est à dire un **tout petit objet** (en terme d'occupation mémoire)  \n",
    "qui ne fait que **mémoriser où on en est** dans l'itération"
   ]
  },
  {
   "cell_type": "markdown",
   "metadata": {
    "slideshow": {
     "slide_type": "slide"
    }
   },
   "source": [
    "## `range()` - suite"
   ]
  },
  {
   "cell_type": "markdown",
   "metadata": {},
   "source": [
    "l'impact sur les performances est majeur !"
   ]
  },
  {
   "cell_type": "code",
   "execution_count": null,
   "metadata": {
    "cell_style": "split"
   },
   "outputs": [],
   "source": [
    "# option avec itérateur\n",
    "\n",
    "# temps de construction \n",
    "# de l'objet range\n",
    "%timeit -n 1000  range(10**6)\n",
    "\n",
    "# espace mémoire occupé \n",
    "# par le range - en octets\n",
    "iterateur = range(10**6)\n",
    "import sys\n",
    "sys.getsizeof(iterateur)"
   ]
  },
  {
   "cell_type": "code",
   "execution_count": null,
   "metadata": {
    "cell_style": "split"
   },
   "outputs": [],
   "source": [
    "# option avec liste\n",
    "\n",
    "# ici je construis une liste explicite\n",
    "# et le plus simple en Python est \n",
    "# d'appeler list() sur l'itérateur\n",
    "\n",
    "# temps de construction\n",
    "%timeit -n 5 list(range(10**6))\n",
    "\n",
    "# espace mémoire\n",
    "explicit = list(range(10**6))\n",
    "import sys\n",
    "sys.getsizeof(explicit)"
   ]
  },
  {
   "cell_type": "markdown",
   "metadata": {
    "slideshow": {
     "slide_type": "slide"
    }
   },
   "source": [
    "## `enumerate()`"
   ]
  },
  {
   "cell_type": "code",
   "execution_count": null,
   "metadata": {
    "cell_style": "split"
   },
   "outputs": [],
   "source": [
    "sujets = ['james', 'henri', 'louis']\n",
    "\n",
    "# on veut lister les éléments \n",
    "# avec leur indice, c'-à-d produire\n",
    "# 0: james\n",
    "# 1: henri\n",
    "# 2: louis"
   ]
  },
  {
   "cell_type": "markdown",
   "metadata": {
    "cell_style": "split"
   },
   "source": [
    "quand on itère sur une  \n",
    "liste, comment faire quand  \n",
    "à l'intérieur de la boucle  \n",
    "on a besoin de l'indice  \n",
    "d'énumération ?  "
   ]
  },
  {
   "cell_type": "code",
   "execution_count": null,
   "metadata": {
    "cell_style": "split"
   },
   "outputs": [],
   "source": [
    "# bien que ça marche ..\n",
    "# IL NE FAUT PAS faire comme ça !\n",
    "for i in range(len(sujets)):\n",
    "    item = sujets[i]\n",
    "    print(f\"{i}: {item}\")"
   ]
  },
  {
   "cell_type": "code",
   "execution_count": null,
   "metadata": {
    "cell_style": "split"
   },
   "outputs": [],
   "source": [
    "# c'est à ça que sert enumerate()\n",
    "\n",
    "for i, item in enumerate(sujets):\n",
    "    print(f\"{i}: {item}\")    "
   ]
  },
  {
   "cell_type": "markdown",
   "metadata": {
    "cell_style": "center"
   },
   "source": [
    "c'est le propos de la fonction `enumerate()`  "
   ]
  },
  {
   "cell_type": "markdown",
   "metadata": {
    "slideshow": {
     "slide_type": "notes"
    }
   },
   "source": [
    "Ce style de programmation à base d'indices est tentant, surtout lorsqu'on vient d'un autre langage, mais c'est considéré comme pas du tout pythonique. Il est important de prendre l'habitude d'utiliser la boucle `for` de la bonne façon, notamment car la programmation par indice ne se prête pas du tout aux itérations plus sophistiquées que nous allons étudier."
   ]
  },
  {
   "cell_type": "markdown",
   "metadata": {
    "slideshow": {
     "slide_type": "slide"
    }
   },
   "source": [
    "## boucle `for` - généralisation\n",
    "\n",
    "de manière générale, on peut écrire une boucle `for` sur un très grand nombre d'objets :\n",
    "\n",
    "* fichiers en lecture (voir plus loin)\n",
    "* itérables du [module `itertools`](https://docs.python.org/3/library/itertools.html)\n",
    "* ..."
   ]
  },
  {
   "cell_type": "code",
   "execution_count": null,
   "metadata": {},
   "outputs": [],
   "source": [
    "# itertools contient des itérateurs pour\n",
    "# matérialiser la plupart des combinatoires \n",
    "# habituelles\n",
    "\n",
    "import itertools"
   ]
  },
  {
   "cell_type": "code",
   "execution_count": null,
   "metadata": {
    "cell_style": "split",
    "slideshow": {
     "slide_type": "slide"
    }
   },
   "outputs": [],
   "source": [
    "from itertools import product\n",
    "\n",
    "cartes = ['V', 'D', 'R', 'As']\n",
    "couleurs = ['♢', '♧', '♡', '♤']\n",
    "\n",
    "for carte, couleur in product(cartes, couleurs):\n",
    "    print(f\"{carte} de {couleur}\")"
   ]
  },
  {
   "cell_type": "code",
   "execution_count": null,
   "metadata": {
    "cell_style": "split"
   },
   "outputs": [],
   "source": [
    "from itertools import permutations\n",
    "\n",
    "for tirage in permutations(couleurs):\n",
    "    print(tirage)"
   ]
  },
  {
   "cell_type": "markdown",
   "metadata": {
    "slideshow": {
     "slide_type": "notes"
    }
   },
   "source": [
    "Dans le cas de la fonction `itertools.product`, remarquez que notre code revient à faire deux boucles imbriquées. "
   ]
  },
  {
   "cell_type": "markdown",
   "metadata": {
    "slideshow": {
     "slide_type": "slide"
    }
   },
   "source": [
    "## `break` et `continue`\n",
    "\n",
    "dans le corps d'une boucle (`for` ou `while`), on peut utiliser: \n",
    "\n",
    "* `break` pour terminer directement la boucle\n",
    "* `continue` pour passer directement à l'itération suivante"
   ]
  },
  {
   "cell_type": "code",
   "execution_count": null,
   "metadata": {
    "cell_style": "split"
   },
   "outputs": [],
   "source": [
    "# pour illustrer break\n",
    "\n",
    "# les 4 premières permutations seulement\n",
    "# remarquez l'emploi de enumerate \n",
    "\n",
    "for index, tirage in enumerate(\n",
    "    permutations(couleurs)):\n",
    "    print(tirage)\n",
    "    if index >= 4:\n",
    "        break"
   ]
  },
  {
   "cell_type": "code",
   "execution_count": null,
   "metadata": {
    "cell_style": "split"
   },
   "outputs": [],
   "source": [
    "# pour illustrer continue\n",
    "\n",
    "# les cartes rouges seulement\n",
    "\n",
    "for couleur in couleurs:\n",
    "    if couleur in '♤♧':\n",
    "        continue\n",
    "    for carte in cartes:\n",
    "        print(f\"{carte} de {couleur}\")"
   ]
  },
  {
   "cell_type": "markdown",
   "metadata": {
    "slideshow": {
     "slide_type": "slide"
    }
   },
   "source": [
    "`break` et `continue` sont toujours relatives  \n",
    "à la boucle la plus imbriquée"
   ]
  },
  {
   "cell_type": "code",
   "execution_count": null,
   "metadata": {
    "cell_style": "split"
   },
   "outputs": [],
   "source": [
    "# une seule boucle\n",
    "for x, y in product(cartes[:2],\n",
    "                    couleurs[:2]):\n",
    "    print(f\"{x} de {y}\")"
   ]
  },
  {
   "cell_type": "code",
   "execution_count": null,
   "metadata": {
    "cell_style": "split"
   },
   "outputs": [],
   "source": [
    "# idem mais avec\n",
    "# deux boucles imbriquées\n",
    "for x in cartes[:2]:\n",
    "    for y in couleurs[:2]:\n",
    "        print(f\"{x} de {y}\")"
   ]
  },
  {
   "cell_type": "code",
   "execution_count": null,
   "metadata": {
    "cell_style": "split"
   },
   "outputs": [],
   "source": [
    "# mais le break n'a pas le même \n",
    "# comportement dans les deux cas\n",
    "for x, y in product(cartes[:2],\n",
    "                    couleurs[:2]):\n",
    "    if y == '♧':\n",
    "        break        \n",
    "    print(f\"{x} de {y}\")"
   ]
  },
  {
   "cell_type": "code",
   "execution_count": null,
   "metadata": {
    "cell_style": "split"
   },
   "outputs": [],
   "source": [
    "# car ici il sort que\n",
    "# de la boucle intérieure\n",
    "for x in cartes[:2]:\n",
    "    for y in couleurs[:2]:\n",
    "        if y in '♧':\n",
    "            break        \n",
    "        print(f\"{x} de {y}\")"
   ]
  },
  {
   "cell_type": "markdown",
   "metadata": {
    "slideshow": {
     "slide_type": "slide"
    }
   },
   "source": [
    "## compréhension"
   ]
  },
  {
   "cell_type": "markdown",
   "metadata": {},
   "source": [
    "un raccourci syntaxique pour construire des containers par itération"
   ]
  },
  {
   "cell_type": "code",
   "execution_count": null,
   "metadata": {
    "cell_style": "center"
   },
   "outputs": [],
   "source": [
    "entrees = [10, -10, 421]"
   ]
  },
  {
   "cell_type": "code",
   "execution_count": null,
   "metadata": {
    "cell_style": "split"
   },
   "outputs": [],
   "source": [
    "# compréhension de liste\n",
    "[x**2 for x in entrees]"
   ]
  },
  {
   "cell_type": "code",
   "execution_count": null,
   "metadata": {
    "cell_style": "split"
   },
   "outputs": [],
   "source": [
    "# compréhension d'ensemble\n",
    "{x**2 for x in entrees}"
   ]
  },
  {
   "cell_type": "code",
   "execution_count": null,
   "metadata": {
    "cell_style": "split"
   },
   "outputs": [],
   "source": [
    "# compréhension de dictionnaire\n",
    "{x : x**2 for x in entrees}"
   ]
  },
  {
   "cell_type": "code",
   "execution_count": null,
   "metadata": {
    "cell_style": "split",
    "slideshow": {
     "slide_type": ""
    }
   },
   "outputs": [],
   "source": [
    "# avec filtrage - avec toutes \n",
    "# les variétés de compréhensions\n",
    "{x**2 for x in entrees if x % 2 == 0}"
   ]
  },
  {
   "cell_type": "markdown",
   "metadata": {
    "slideshow": {
     "slide_type": "slide"
    }
   },
   "source": [
    "## expressions génératrices"
   ]
  },
  {
   "cell_type": "markdown",
   "metadata": {},
   "source": [
    "la compréhension est souvent élégante  \n",
    "mais elle souffre du même problème qu'on a vu plus haut  \n",
    "elle **alloue de la mémoire** pour ranger les résultats  \n",
    "et dans ces cas-là un **itérateur** est un bien meilleur choix"
   ]
  },
  {
   "cell_type": "markdown",
   "metadata": {},
   "source": [
    "dans ces cas-là, il suffit de prendre la compréhension de liste  \n",
    "et remplacer les `[]` par `()`  \n",
    "cela s'appelle une **expression génératrice**"
   ]
  },
  {
   "cell_type": "markdown",
   "metadata": {
    "slideshow": {
     "slide_type": "notes"
    }
   },
   "source": [
    "Le fait de devoir allouer de la mémoire a plusieurs inconvénients. Tout d'abord bien entendu, la mémoire est une ressource finie, qu'il faut donc utiliser avec parcimonie. De plus, lorsqu'un programme a besoin de mémoire il la demande au système d'exploitation, et c'est une opération bien plus lente qu'on pourrait le soupçonner naïvement ; et même sur une machine dotée d'une mémoire énorme, ce temps d'allocation pénalise les performances."
   ]
  },
  {
   "cell_type": "markdown",
   "metadata": {
    "cell_style": "center",
    "slideshow": {
     "slide_type": "slide"
    }
   },
   "source": [
    "Benchmark : la somme des premiers entiers."
   ]
  },
  {
   "cell_type": "code",
   "execution_count": null,
   "metadata": {
    "cell_style": "split"
   },
   "outputs": [],
   "source": [
    "# avec une compréhension\n",
    "\n",
    "%timeit sum([x for x in range(10**6)])"
   ]
  },
  {
   "cell_type": "code",
   "execution_count": null,
   "metadata": {
    "cell_style": "split"
   },
   "outputs": [],
   "source": [
    "# même chose mais avec\n",
    "# une expression génératrice\n",
    "\n",
    "%timeit sum(x for x in range(10**6))"
   ]
  },
  {
   "cell_type": "code",
   "execution_count": null,
   "metadata": {
    "cell_style": "split"
   },
   "outputs": [],
   "source": [
    "# taille mémoire\n",
    "\n",
    "comprehension = [x for x in range(10**6)]\n",
    "\n",
    "sys.getsizeof(comprehension)"
   ]
  },
  {
   "cell_type": "code",
   "execution_count": null,
   "metadata": {
    "cell_style": "split"
   },
   "outputs": [],
   "source": [
    "# aucune comparaison !\n",
    "\n",
    "generatrice = (x for x in range(10**6))\n",
    "\n",
    "sys.getsizeof(generatrice)"
   ]
  },
  {
   "cell_type": "markdown",
   "metadata": {
    "slideshow": {
     "slide_type": "slide"
    }
   },
   "source": [
    "## résumé\n",
    "\n",
    "pour itérer sur une suite (un itérable) d'entrées\n",
    "\n",
    "* on peut écrire un `for`, \n",
    "* ou une compréhension, \n",
    "* ou une expression génératrice\n",
    "\n",
    "on n'itère **jamais** sur `range(len(iterable))`  \n",
    "on utilise `enumerate` à la place\n",
    "\n",
    "dans tous les cas où c'est possible\n",
    "\n",
    "* on recommande d'utiliser un itérateur \n",
    "* de préférence à une allocation explicite des résultats    "
   ]
  }
 ],
 "metadata": {
  "celltoolbar": "Slideshow",
  "ipub": {
   "sphinx": {
    "toggle_input": true,
    "toggle_input_all": true,
    "toggle_output": true,
    "toggle_output_all": true
   }
  },
  "kernelspec": {
   "display_name": "Python 3",
   "language": "python",
   "name": "python3"
  },
  "language_info": {
   "codemirror_mode": {
    "name": "ipython",
    "version": 3
   },
   "file_extension": ".py",
   "mimetype": "text/x-python",
   "name": "python",
   "nbconvert_exporter": "python",
   "pygments_lexer": "ipython3",
   "version": "3.7.3"
  },
  "notebookname": "itérations",
  "rise": {
   "autolaunch": true,
   "slideNumber": "c/t",
   "start_slideshow_at": "selected",
   "theme": "sky",
   "transition": "cube"
  },
  "version": "1.0"
 },
 "nbformat": 4,
 "nbformat_minor": 2
}
