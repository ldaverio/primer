{
 "cells": [
  {
   "cell_type": "markdown",
   "metadata": {
    "slideshow": {
     "slide_type": "slide"
    }
   },
   "source": [
    "<div class=\"licence\">\n",
    "<span>Licence CC BY-NC-ND</span>\n",
    "<span>Thierry Parmentelat</span>\n",
    "<span><img src=\"../media/inria-25-alpha.png\" /></span>\n",
    "</div>"
   ]
  },
  {
   "cell_type": "markdown",
   "metadata": {
    "slideshow": {
     "slide_type": ""
    }
   },
   "source": [
    "# références partagées"
   ]
  },
  {
   "cell_type": "code",
   "execution_count": null,
   "metadata": {},
   "outputs": [],
   "source": [
    "# pour visualiser le graphe de références\n",
    "%load_ext ipythontutor"
   ]
  },
  {
   "cell_type": "markdown",
   "metadata": {
    "slideshow": {
     "slide_type": "slide"
    }
   },
   "source": [
    "## imbrications\n",
    "\n",
    "naturellement, les différents types de containers  \n",
    "peuvent être combinés à l'infini"
   ]
  },
  {
   "cell_type": "code",
   "execution_count": null,
   "metadata": {
    "cell_style": "split"
   },
   "outputs": [],
   "source": [
    "# une liste de dictionnaires\n",
    "combo1 = [\n",
    "    {'un': 'premier'},\n",
    "    {'Alice': 25, 'Bob': 34},\n",
    "]\n",
    "combo1"
   ]
  },
  {
   "cell_type": "code",
   "execution_count": null,
   "metadata": {
    "cell_style": "split"
   },
   "outputs": [],
   "source": [
    "# un dictionnaire de listes\n",
    "combo2 = {\n",
    "    1 : ['un', 'one', 'uno'],\n",
    "    2 : ['deux', 'two', 'due'],\n",
    "}\n",
    "combo2"
   ]
  },
  {
   "cell_type": "markdown",
   "metadata": {
    "slideshow": {
     "slide_type": "slide"
    }
   },
   "source": [
    "## références partagées\n",
    "\n",
    "du coup on peut construire en mémoire des graphes,  \n",
    "et atteindre le même objet par plusieurs chemins\n"
   ]
  },
  {
   "cell_type": "code",
   "execution_count": null,
   "metadata": {},
   "outputs": [],
   "source": [
    "# créons un objet - ici une liste\n",
    "shared = ['a', 'b']\n",
    "# si je mentionne cet objet deux fois \n",
    "# dans une liste, je crée un partage\n",
    "entry = [shared, shared]\n",
    "entry"
   ]
  },
  {
   "cell_type": "code",
   "execution_count": null,
   "metadata": {},
   "outputs": [],
   "source": [
    "# si bien qu'en modifiant l'objet partagé\n",
    "shared[0] = 'boom'\n",
    "# j'ai en fait modifié les deux morceaux de la liste\n",
    "entry"
   ]
  },
  {
   "cell_type": "code",
   "execution_count": null,
   "metadata": {
    "slideshow": {
     "slide_type": "slide"
    }
   },
   "outputs": [],
   "source": [
    "%%ipythontutor\n",
    "\n",
    "# idem visualisé sous pythontutor\n",
    "shared = ['a', 'b']\n",
    "entry = [shared, shared]\n",
    "shared[0] = 'boom'\n",
    "print(shared)"
   ]
  },
  {
   "cell_type": "markdown",
   "metadata": {
    "slideshow": {
     "slide_type": "slide"
    }
   },
   "source": [
    "## quand ?\n",
    "\n",
    "notamment, référence partagée dès qu'on fait :\n",
    "\n",
    "* une affectation\n",
    "* un appel de fonction"
   ]
  },
  {
   "cell_type": "code",
   "execution_count": null,
   "metadata": {
    "cell_style": "split"
   },
   "outputs": [],
   "source": [
    "a = [100, 200]\n",
    "b = a\n",
    "# b référence le même\n",
    "# objet que a \n",
    "a[0] = 'boom'\n",
    "b"
   ]
  },
  {
   "cell_type": "code",
   "execution_count": null,
   "metadata": {
    "cell_style": "split",
    "tags": [
     "raises-exception"
    ]
   },
   "outputs": [],
   "source": [
    "def boom(x):\n",
    "    x[0] = 'boom'\n",
    "    \n",
    "c = [100, 200]\n",
    "\n",
    "# lors de cet appel\n",
    "# le 'x' dans la fonction \n",
    "# référence le même objet que c\n",
    "boom(c)\n",
    "\n",
    "c"
   ]
  },
  {
   "cell_type": "markdown",
   "metadata": {
    "slideshow": {
     "slide_type": "slide"
    }
   },
   "source": [
    "## références\n",
    "\n",
    "en Python, on manipule très souvent  \n",
    "des références vers des objets :\n",
    "\n",
    "* une variable,\n",
    "* un paramètre de fonction,\n",
    "* un slot dans une liste,\n",
    "* une valeur dans un dictionnaire, \n",
    "* ...\n",
    "\n",
    "sont tous des références vers des objets"
   ]
  },
  {
   "cell_type": "markdown",
   "metadata": {
    "slideshow": {
     "slide_type": "slide"
    }
   },
   "source": [
    "## références partagées\n",
    "\n",
    "* le phénomène de références partagées se produit  \n",
    "  dès lors qu'on peut accéder à un objet  \n",
    "  par plusieurs chemins  \n",
    "  dans le graphe des références\n",
    "\n",
    "* cela permet d'éviter les copies inutiles\n",
    "* mais à l'inverse il faut en être bien conscient  \n",
    "  et faire explicitement des copies  \n",
    "  lorsque le partage n'est pas souhaitable"
   ]
  },
  {
   "cell_type": "markdown",
   "metadata": {
    "slideshow": {
     "slide_type": "slide"
    }
   },
   "source": [
    "## mutable / immuable\n",
    "\n",
    "* certains types d'objet ne sont pas modifiables :  \n",
    "  par exemple: nombres, chaines, tuples\n",
    "\n",
    "* dans ce cas le partage n'est pas un souci\n",
    "* il faut être attentif lorsque l'objet partagé  \n",
    "  est *mutable* - c'est-à-dire peut être modifié -  \n",
    "  comme nos 3 sortes de containers `list`, `dict` et `set`"
   ]
  },
  {
   "cell_type": "markdown",
   "metadata": {
    "slideshow": {
     "slide_type": "notes"
    }
   },
   "source": [
    "On insiste bien sur le fait que les **nombres**  et les **chaines** ne sont **pas mutables** en Python; pour vous en convaincre et à titre d'exercice, essayer de fabriquer une référence partagée dans une chaine de caractères."
   ]
  }
 ],
 "metadata": {
  "celltoolbar": "Slideshow",
  "ipub": {
   "sphinx": {
    "toggle_input": true,
    "toggle_input_all": true,
    "toggle_output": true,
    "toggle_output_all": true
   }
  },
  "kernelspec": {
   "display_name": "Python 3",
   "language": "python",
   "name": "python3"
  },
  "language_info": {
   "codemirror_mode": {
    "name": "ipython",
    "version": 3
   },
   "file_extension": ".py",
   "mimetype": "text/x-python",
   "name": "python",
   "nbconvert_exporter": "python",
   "pygments_lexer": "ipython3",
   "version": "3.7.3"
  },
  "notebookname": "références partagées",
  "rise": {
   "autolaunch": true,
   "slideNumber": "c/t",
   "start_slideshow_at": "selected",
   "theme": "sky",
   "transition": "cube"
  },
  "version": "1.0"
 },
 "nbformat": 4,
 "nbformat_minor": 2
}
