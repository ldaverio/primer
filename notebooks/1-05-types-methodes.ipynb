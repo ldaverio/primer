{
 "cells": [
  {
   "cell_type": "markdown",
   "metadata": {
    "slideshow": {
     "slide_type": "slide"
    }
   },
   "source": [
    "<div class=\"licence\">\n",
    "<span>Licence CC BY-NC-ND</span>\n",
    "<span>Thierry Parmentelat</span>\n",
    "<span><img src=\"../media/inria-25-alpha.png\" /></span>\n",
    "</div>"
   ]
  },
  {
   "cell_type": "markdown",
   "metadata": {
    "slideshow": {
     "slide_type": ""
    }
   },
   "source": [
    "# objets, types et méthodes"
   ]
  },
  {
   "cell_type": "markdown",
   "metadata": {
    "slideshow": {
     "slide_type": "slide"
    }
   },
   "source": [
    "## Python est un paradigme orienté objet  \n",
    "\n",
    "cela signifie que toutes vos données sont des objets  \n",
    "entre autres choses chaque objet a un type "
   ]
  },
  {
   "cell_type": "code",
   "execution_count": null,
   "metadata": {
    "cell_style": "split",
    "slideshow": {
     "slide_type": "slide"
    }
   },
   "outputs": [],
   "source": [
    "# en Python absolument toutes les données\n",
    "# en mémoire sont des objets\n",
    "# chaque objet possède (entre autres)\n",
    "# un type\n",
    "\n",
    "# un module\n",
    "import math\n",
    "\n",
    "# un nombre\n",
    "x = 4 * math.pi\n",
    "\n",
    "# une chaine\n",
    "texte = \"une chaine\"\n",
    "\n",
    "# une fonction\n",
    "def fact(n):\n",
    "    return 1 if n <= 1 else n * fact(n-1)"
   ]
  },
  {
   "cell_type": "code",
   "execution_count": null,
   "metadata": {
    "cell_style": "split"
   },
   "outputs": [],
   "source": [
    "type(x)"
   ]
  },
  {
   "cell_type": "code",
   "execution_count": null,
   "metadata": {
    "cell_style": "split"
   },
   "outputs": [],
   "source": [
    "type(texte)"
   ]
  },
  {
   "cell_type": "code",
   "execution_count": null,
   "metadata": {
    "cell_style": "split"
   },
   "outputs": [],
   "source": [
    "type(fact)"
   ]
  },
  {
   "cell_type": "code",
   "execution_count": null,
   "metadata": {
    "cell_style": "split"
   },
   "outputs": [],
   "source": [
    "type(math)"
   ]
  },
  {
   "cell_type": "markdown",
   "metadata": {
    "slideshow": {
     "slide_type": "slide"
    }
   },
   "source": [
    "## méthode = fonction attachée à un type"
   ]
  },
  {
   "cell_type": "markdown",
   "metadata": {},
   "source": [
    "lorsqu'on appelle un méthode sur un objet,  \n",
    "la syntaxe est donc  \n",
    "\n",
    "```python\n",
    "objet.methode(parametre)\n",
    "```\n",
    "    \n",
    "ce qui se passe c'est que\n",
    "\n",
    "* on cherche la méthode **à partir du type** de `objet`  \n",
    "* on trouve une **fonction**, et on l'appelle \n",
    "* avec en premier argument l'objet"
   ]
  },
  {
   "cell_type": "markdown",
   "metadata": {
    "slideshow": {
     "slide_type": "slide"
    }
   },
   "source": [
    "## appel de méthode illustré"
   ]
  },
  {
   "cell_type": "code",
   "execution_count": null,
   "metadata": {
    "cell_style": "split",
    "slideshow": {
     "slide_type": ""
    }
   },
   "outputs": [],
   "source": [
    "chaine = \"bonjour\"\n",
    "chaine"
   ]
  },
  {
   "cell_type": "code",
   "execution_count": null,
   "metadata": {
    "cell_style": "split"
   },
   "outputs": [],
   "source": [
    "# la recherche de 'capitalize' \n",
    "# à partir de `chaine`\n",
    "# trouve une fonction rangée\n",
    "# dans le type `str`\n",
    "\n",
    "la_methode = str.capitalize\n",
    "la_methode"
   ]
  },
  {
   "cell_type": "code",
   "execution_count": null,
   "metadata": {
    "cell_style": "split"
   },
   "outputs": [],
   "source": [
    "# lorsqu'on écrit ceci\n",
    "chaine.capitalize()"
   ]
  },
  {
   "cell_type": "code",
   "execution_count": null,
   "metadata": {
    "cell_style": "split"
   },
   "outputs": [],
   "source": [
    "# c'est comme si on avait\n",
    "# écrit \n",
    "la_methode(chaine)"
   ]
  },
  {
   "cell_type": "code",
   "execution_count": null,
   "metadata": {
    "cell_style": "split"
   },
   "outputs": [],
   "source": [
    "# si on passe des arguments\n",
    "chaine.center(13, '-')"
   ]
  },
  {
   "cell_type": "code",
   "execution_count": null,
   "metadata": {
    "cell_style": "split"
   },
   "outputs": [],
   "source": [
    "# ils sont ajoutés après l'objet\n",
    "str.center(chaine, 13, '-')"
   ]
  },
  {
   "cell_type": "markdown",
   "metadata": {
    "slideshow": {
     "slide_type": "slide"
    }
   },
   "source": [
    "## à quoi ça sert ?\n",
    "\n",
    "par rapport à un appel de fonction, 2 avantages\n",
    "\n",
    "* la résolution du nom de la méthode se fait à l'exécution\n",
    "  * le même code se comporte différemment\n",
    "  * sur des entrées de type différents\n",
    "  * permet d'écrire du code plus générique\n",
    "\n",
    "* espaces de nom plus propres  \n",
    "  pas besoin d'inventer des noms comme `str_capitalize` "
   ]
  },
  {
   "cell_type": "markdown",
   "metadata": {
    "slideshow": {
     "slide_type": "notes"
    }
   },
   "source": []
  }
 ],
 "metadata": {
  "celltoolbar": "Slideshow",
  "ipub": {
   "sphinx": {
    "toggle_input": true,
    "toggle_input_all": true,
    "toggle_output": true,
    "toggle_output_all": true
   }
  },
  "kernelspec": {
   "display_name": "Python 3",
   "language": "python",
   "name": "python3"
  },
  "language_info": {
   "codemirror_mode": {
    "name": "ipython",
    "version": 3
   },
   "file_extension": ".py",
   "mimetype": "text/x-python",
   "name": "python",
   "nbconvert_exporter": "python",
   "pygments_lexer": "ipython3",
   "version": "3.7.3"
  },
  "notebookname": "objets, types et méthodes",
  "rise": {
   "autolaunch": true,
   "slideNumber": "c/t",
   "start_slideshow_at": "selected",
   "theme": "sky",
   "transition": "cube"
  },
  "version": "1.0"
 },
 "nbformat": 4,
 "nbformat_minor": 4
}
