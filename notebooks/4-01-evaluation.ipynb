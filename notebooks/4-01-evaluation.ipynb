{
 "cells": [
  {
   "cell_type": "markdown",
   "metadata": {},
   "source": [
    "# Évaluation des enseignements `python-primer`, `python-numérique` et `python-dataviz`"
   ]
  },
  {
   "cell_type": "markdown",
   "metadata": {},
   "source": [
    "## Quelques informations générales *à lire SVP*\n",
    "\n",
    "----------\n",
    "\n",
    "\n",
    "\n",
    "   - l'objectif des 3 séances de cours en présentiel était de vous *lancer* dans l'apprentissage de techniques nécessaires à vos futurs enseignements;\n",
    "   \n",
    "   \n",
    "\n",
    "   - vous avez maintenant une *idée générale* de ce qu'on peut faire à partir de `python-primer` et de *ses* bibliothèques de programmes: `numpy`, `pandas`, `matplotlib.pyplot`;\n",
    "   \n",
    "  \n",
    "----------\n",
    "\n",
    "   - ces notebooks sont très complets: ils abordent, expliquent et illustrent de nombreuses notions qui vous seront utiles par la suite (les autres enseignants les complèteront);\n",
    "   \n",
    "\n",
    "\n",
    "   - tous les groupes n'ont pas vu exactement les mêmes slides, vos enseignants se sont adaptés en sélectionnant certaines parties (de la grande quantité) des notebook disponibles;\n",
    "   \n",
    "  \n",
    "   \n",
    "----------\n",
    "\n",
    "   - maintenant, comme prévu dans la définition des ECTS, à vous de travailler les notions sur votre temps libre\n",
    "   \n",
    "   \n",
    "   \n",
    "   - vous pouvez, par exemple, parcourir les notebooks en allant rechercher des informations ou des exemples plus avancés dans les documentations des librairies sur Internet;\n",
    "   \n",
    "   \n",
    "   - vous pouvez terminer les exercices qui vous ont été proposés pendant les cours et revenir vers nous si vous avez des questions;\n",
    "   \n",
    "   "
   ]
  },
  {
   "cell_type": "markdown",
   "metadata": {},
   "source": [
    "## Votre évaluation *à lire SVP*\n",
    "\n",
    "   - tous les ECTS s'évaluent, aussi nous vous proposons de travailler **sur la plateforme nbhosting, ce notebook qui sera votre évaluation**;\n",
    "   \n",
    "   \n",
    "   - cela vous permettra aussi de (re)travailler les notions de python-primer, numérique et dataviz qui vous seront utiles pour la suite;\n",
    " \n",
    "   \n",
    "   - les exercices sont tous de niveau moyen, pas de niveau avancé pour cette évaluation;\n",
    "   \n",
    "  \n",
    "   - **ATTENTION: votre notebook sera automatiquement relevé sur la plateforme le lundi 4 novembre à 20h00** (*notebook vide = mauvaise évaluation*)\n",
    "   \n",
    "  \n",
    "   - nous restons disponibles pour toutes vos questions (ces informations seront relayées sur discourse);\n",
    "   "
   ]
  },
  {
   "cell_type": "markdown",
   "metadata": {},
   "source": [
    "*Quand les exercices font partie d'une série d'exercices, faites les dans l'ordre, ils se servent des précédents...**"
   ]
  },
  {
   "cell_type": "markdown",
   "metadata": {},
   "source": [
    "## I. Indiquer la version de `python`"
   ]
  },
  {
   "cell_type": "code",
   "execution_count": null,
   "metadata": {},
   "outputs": [],
   "source": [
    "# votre code ici"
   ]
  },
  {
   "cell_type": "markdown",
   "metadata": {},
   "source": [
    "## II. Manipulation des listes, dictionnaires et autres outils"
   ]
  },
  {
   "cell_type": "markdown",
   "metadata": {},
   "source": [
    "**Consigne** : compter le nombre d'occurrences des mots d'un texte. Le texte est stocké dans la variable d'entrée de votre fonction `texte`. Le texte est composé de phrases séparées par des points. Aucun autre signe de ponctuation n'est utilisé. L'objectif est de retourner une liste de tuples où chaque tuple contient un mot et son nombre d'occurrences. La liste doit être classée du mot le plus régulier à celui le moins utilisé."
   ]
  },
  {
   "cell_type": "markdown",
   "metadata": {},
   "source": [
    "**Exemple** :"
   ]
  },
  {
   "cell_type": "code",
   "execution_count": null,
   "metadata": {},
   "outputs": [],
   "source": [
    "def compte_occurrence(texte):\n",
    "    \"\"\" Votre code \"\"\"\n",
    "compte_occurrence(\"Youplaboum python est super youplaboum.\") \n",
    "# doit retourner une liste ressemblant à :\n",
    "#  [('youplaboum', 2), ('python', 1), ('est', 1), ('super', 1)]"
   ]
  },
  {
   "cell_type": "markdown",
   "metadata": {},
   "source": [
    "## III. Les classes"
   ]
  },
  {
   "cell_type": "markdown",
   "metadata": {},
   "source": [
    "consigne:\n",
    "   - nous voulons que le code python suivant fonctionne\n",
    "   - pour cela vous allez devoir implémenter une classe et ses méthodes"
   ]
  },
  {
   "cell_type": "code",
   "execution_count": null,
   "metadata": {},
   "outputs": [],
   "source": [
    "class Rational:\n",
    "    # votre code ici\n",
    "    pass"
   ]
  },
  {
   "cell_type": "code",
   "execution_count": null,
   "metadata": {},
   "outputs": [],
   "source": [
    "r1 = Rational(1, 3) # construit le rationnel 1/3\n",
    "r2 = Rational(2, 6) # construit le rationnel 2/6\n",
    "r3 = Rational(-5) # construit le rationnel -5\n",
    "r4 = Rational() # construit le rationnel 0\n",
    "\n",
    "try:\n",
    "    r5 = Rational (7, 0) # doit lever l'exception ValueError\n",
    "except ValueError as e:\n",
    "    print(e) # affiche \"Le dénominateur ne peut pas être nul\"\n",
    "    \n",
    "print(r1 == r2) # doit renvoyer vrai\n",
    "\n",
    "r = r1 + r2 # crée un rational avec la somme\n",
    "\n",
    "print(r1) # doit écrire 1/3\n",
    "\n",
    "r2 * r3\n",
    "\n",
    "help(Rational) # doit afficher la documentation de votre classe"
   ]
  },
  {
   "cell_type": "markdown",
   "metadata": {},
   "source": [
    "Pour obtenir quelque chose de propre, il faudrait pouvoir également exécuter le code suivant.\n",
    "\n",
    "Ces développements sont **facultatifs** mais seraient nécessaires pour être sûr d'avoir un comportement complet et cohérent. Voici quelques conseils : \n",
    "* on pourra utiliser la fonction `isinstance` pour tester le type des paramètres des méthodes magiques ;\n",
    "* pour l'addition *inversée*, regarder du côté de `__radd__`."
   ]
  },
  {
   "cell_type": "code",
   "execution_count": null,
   "metadata": {},
   "outputs": [],
   "source": [
    "print(r3 == -5) # doit renvoyer vrai\n",
    "\n",
    "print(5 + r1)\n",
    "\n",
    "try:\n",
    "    print(r2 + 4.0)\n",
    "except ValueError as e:\n",
    "    print(e)\n",
    "\n",
    "try:\n",
    "    print(r2 * 4.0)\n",
    "except ValueError as e:\n",
    "    print(e)"
   ]
  },
  {
   "cell_type": "markdown",
   "metadata": {},
   "source": [
    "## IV. Importer `numpy` et `pandas`  indiquer la version des bibliothèques"
   ]
  },
  {
   "cell_type": "code",
   "execution_count": null,
   "metadata": {},
   "outputs": [],
   "source": [
    "# votre code ici"
   ]
  },
  {
   "cell_type": "markdown",
   "metadata": {},
   "source": [
    "## V. Importer `pyplot` de `matplotlib` et  mettez les plots en `inline` dans le notebook"
   ]
  },
  {
   "cell_type": "code",
   "execution_count": null,
   "metadata": {},
   "outputs": [],
   "source": [
    "#votre code ici"
   ]
  },
  {
   "cell_type": "markdown",
   "metadata": {},
   "source": [
    "## VI. Exercices sur la suite de Syracuse"
   ]
  },
  {
   "cell_type": "markdown",
   "metadata": {},
   "source": [
    "### La suite de Syracuse\n",
    "\n",
    "pour chaque $n\\in \\mathbb{N^*}$, on définit une suite de Syracuse par:\n",
    "   - $u_0 = n$\n",
    "   - $u_{p+1}={\\begin{cases}{\\dfrac {u_{p}}{2}}&{\\mbox{si }}u_{p}{\\mbox{ est pair,}}\\\\3u_{p}+1&{\\mbox{si }}u_{p}{\\mbox{ est impair.}}\\end{cases}}$"
   ]
  },
  {
   "cell_type": "markdown",
   "metadata": {},
   "source": [
    "### Les consignes\n",
    "\n",
    "   1. la suite s'arrête après le premier $1$\n",
    "   1. lever une exception si le type de l'argument n'est pas valide (*TypeError*), pensez à utiliser *isinstance*\n",
    "   1. lever une exception si la valeur de l'argument n'est pas valide (*ValueError*)\n",
    "   - pensez à mettre un message explicatif dans vos exceptions\n",
    "   1. mettez un docstring à la fonction"
   ]
  },
  {
   "cell_type": "markdown",
   "metadata": {},
   "source": [
    "### 1. Implémentation de la suite de Syracuse\n",
    "   \n",
    "   - implémenter une fonction **syracuse** qui retourne la liste de la suite des nombres de Syracuse pour un $n$ donné sous les conditions précédentes"
   ]
  },
  {
   "cell_type": "markdown",
   "metadata": {},
   "source": [
    "par exemple\n",
    "```python\n",
    ">>> syracuse(10)\n",
    "[10, 5, 8, 4, 2, 1]\n",
    "```"
   ]
  },
  {
   "cell_type": "markdown",
   "metadata": {},
   "source": [
    "     \n",
    "**Exécutions**:\n",
    "   - tester votre fonction dans les cas suivants (n vaut 0, \"toto\", 4 et 27) en rattrapant les exceptions levées"
   ]
  },
  {
   "cell_type": "code",
   "execution_count": null,
   "metadata": {},
   "outputs": [],
   "source": [
    "# EXERCICE\n",
    "def syracuse(n):\n",
    "    # votre code ici\n",
    "    pass"
   ]
  },
  {
   "cell_type": "code",
   "execution_count": null,
   "metadata": {},
   "outputs": [],
   "source": [
    "syracuse(10)"
   ]
  },
  {
   "cell_type": "markdown",
   "metadata": {},
   "source": [
    "### 2. Plotter la suite de Syracuse\n",
    "\n",
    "**[indications]:**\n",
    "   - les notebooks, sur les figures et sous-figures en matplotlib.pyplot, relatifs à cet exercice sont dans le notebook 3-13\n",
    "   - attention les sous-figures sont appelées *axis* en matplotlib.pyplot"
   ]
  },
  {
   "cell_type": "markdown",
   "metadata": {},
   "source": [
    "**[rappels]:**\n",
    "  - une figure peut être composée de sous-figures\n",
    "  - les sous-figures sont appelées des *Axis* (pensez toujours: axis = subfigure)\n",
    "  - voir 3-16-dataviz-figure-and-axe.ipynb (le notebook relatif aux sous-figures sur nbhosting)"
   ]
  },
  {
   "cell_type": "markdown",
   "metadata": {},
   "source": [
    "   - créer une figure globale de titre *syracuse*\n",
    "   - créer six sous-figures en une grille de 2 lignes et 3 colonnes en plottant 6 suites de syracuse - par exemple pour les entrées 4, 8, 12, 5, 10 et 20\n",
    "   - donner la même taille aux sous-figures\n",
    "   - donner un titre aux sous-figures"
   ]
  },
  {
   "cell_type": "code",
   "execution_count": null,
   "metadata": {},
   "outputs": [],
   "source": [
    "# votre code ici"
   ]
  },
  {
   "cell_type": "markdown",
   "metadata": {},
   "source": [
    "## VII. Exercice: vectorization de fonctions"
   ]
  },
  {
   "cell_type": "markdown",
   "metadata": {},
   "source": [
    "   - implémenter la fonction valeur absolue sans utiliser *numpy.abs* ni aucune fonction numpy dans le corps de la fonction\n",
    "   - créer un *numpy.ndarray* contenant des flottants linéairement espacés entre -100 et 100\n",
    "   - appliquez votre fonction à ce tableau\n",
    "   - quel problème constatez-vous ?"
   ]
  },
  {
   "cell_type": "markdown",
   "metadata": {},
   "source": [
    "**[indications]**\n",
    "\n",
    "\n",
    "   - si vous voulez que votre fonction ($abs: float \\rightarrow float)$ puisse s'appliquer à des tableaux numpy\n",
    "   - il faut la vectoriser en utilisant la fonction *numpy.vectorize*"
   ]
  },
  {
   "cell_type": "code",
   "execution_count": null,
   "metadata": {},
   "outputs": [],
   "source": [
    "# votre code ici\n",
    "\n",
    "def abs (n):\n",
    "    # votre code ici\n",
    "    pass\n",
    "\n",
    "# votre code ici\n",
    "# x = ...\n",
    "# abs(x)\n",
    "# pensez à rattraper l'erreur"
   ]
  },
  {
   "cell_type": "markdown",
   "metadata": {},
   "source": [
    "## VIII. 3D plotting"
   ]
  },
  {
   "cell_type": "markdown",
   "metadata": {},
   "source": [
    "   - cet exercice s'appuie sur le notebook 3-14-dataviz-3D-plots.ipynb"
   ]
  },
  {
   "cell_type": "markdown",
   "metadata": {},
   "source": [
    "   - implémentez en utilisant les opérateurs et fonctions numpy une fonction (dans le genre de) $f(x, y) = x^2 + y^2$ \n",
    "   - plotter votre fonction en 3D\n",
    "   - *optionnel*: passez en coordonnées paramétriques"
   ]
  },
  {
   "cell_type": "code",
   "execution_count": null,
   "metadata": {},
   "outputs": [],
   "source": [
    "# votre code ici"
   ]
  },
  {
   "cell_type": "markdown",
   "metadata": {},
   "source": [
    "## IX. Travail sur des fichiers `csv`"
   ]
  },
  {
   "cell_type": "markdown",
   "metadata": {},
   "source": [
    "**[consigne]**\n",
    "   - ne pas utiliser de boucles python sur les tableaux *csv* "
   ]
  },
  {
   "cell_type": "markdown",
   "metadata": {},
   "source": [
    "### 1. Lecture de fichiers csv"
   ]
  },
  {
   "cell_type": "markdown",
   "metadata": {},
   "source": [
    "#### a. Lecture d'un (petit) csv sans noms de colonnes\n",
    "   - créer une *pandas.DataFrame* *df1* à partir du (petit) fichier `weight_height_no_names.csv`\n",
    "   - il ne comporte pas de noms de colonnes\n",
    "   - passer lui la liste des colonnes =[\"genre\", \"taille\", \"poids\"] à la création de la DataFrame\n",
    "   - afficher la taille de la DataFrame "
   ]
  },
  {
   "cell_type": "code",
   "execution_count": null,
   "metadata": {},
   "outputs": [],
   "source": [
    "# votre code ici"
   ]
  },
  {
   "cell_type": "markdown",
   "metadata": {},
   "source": [
    "####  b. Lecture d'un (petit) csv avec des lignes de commentaires mais sans noms de colonnes \n",
    "   - créer une *pandas.DataFrame* *df2* à partir du (petit) fichier `weight_height_no_comments.csv`\n",
    "   - les valeurs sont séparées par des ';'\n",
    "   - ce fichier comporte 3 lignes de commentaires\n",
    "   - il ne comporte pas de noms de colonnes\n",
    "   - mettez dans la DataFrame existante la liste de colonnes: [\"Gender\", \"Height\", \"Weight\"]"
   ]
  },
  {
   "cell_type": "code",
   "execution_count": null,
   "metadata": {},
   "outputs": [],
   "source": [
    "# votre code ici"
   ]
  },
  {
   "cell_type": "markdown",
   "metadata": {},
   "source": [
    "#### c. Lecture d'un (gros) fichier csv avec le nom des colonnes et sans commentaires\n",
    "   - créer une *pandas.DataFrame* *df* à partir du (gros) fichier `weight_height.csv`\n",
    "   - les valeurs sont séparées par des ';'\n",
    "   - la première ligne comporte le nom des colonnes\n",
    "   - cette DataFrame servira dans les fonctions suivantes"
   ]
  },
  {
   "cell_type": "code",
   "execution_count": null,
   "metadata": {},
   "outputs": [],
   "source": [
    "# votre code ici"
   ]
  },
  {
   "cell_type": "markdown",
   "metadata": {},
   "source": [
    "### 2. Informations générales sur une DataFrame\n",
    "\n",
    "on manipule la DataFrame *df* précédente\n",
    "\n",
    "   1. afficher la taille du tableau\n",
    "   \n",
    "   1. afficher les quelques (5) premiers éléments du tableau\n",
    "   \n",
    "   1. afficher les types des colonnes\n",
    "   \n",
    "   1. afficher les informations générale sur la DataFrame"
   ]
  },
  {
   "cell_type": "code",
   "execution_count": null,
   "metadata": {},
   "outputs": [],
   "source": [
    "# votre code ici"
   ]
  },
  {
   "cell_type": "markdown",
   "metadata": {},
   "source": [
    "### 3. Manipulations des colonnes de la DataFrame\n",
    "\n",
    "   - convertissez les tailles de *inches* à *mètres* ($cm = in \\times 2.54$)\n",
    "   - convertissez les poids de *pounds* à *kg* ($kg = \\dfrac{lb}{2.2046}$)\n",
    "  \n",
    "  \n",
    "   - remplacer la colonne \"Gender\" par une colonne avec la valeur 1 pour les homme et 2 pour les femmes\n",
    "   - compter le nombre de valeurs différentes dans la colonne \"Gender\"\n",
    "   \n",
    "   - calculer l'indice de masse corporelle (dans le genre: poids/taille au carré) et stoquer-le dans une colonne de la DataFrame"
   ]
  },
  {
   "cell_type": "code",
   "execution_count": null,
   "metadata": {},
   "outputs": [],
   "source": [
    "# votre code ici"
   ]
  },
  {
   "cell_type": "markdown",
   "metadata": {},
   "source": [
    "### 4. Plots de colonnes de la DataFrame"
   ]
  },
  {
   "cell_type": "markdown",
   "metadata": {},
   "source": [
    "####   a. les boxplots\n",
    "   1. tracer le *boxplot* de la colonne *height*\n",
    "\n",
    "   1. tracer le *boxplot* de la colonne *weight*"
   ]
  },
  {
   "cell_type": "code",
   "execution_count": null,
   "metadata": {},
   "outputs": [],
   "source": [
    "# votre code ici"
   ]
  },
  {
   "cell_type": "markdown",
   "metadata": {},
   "source": [
    "#### b. Plot d'une colonne en fonction d'une autre colonne\n",
    "   1. tracer les tailles en fonction des poids en discriminant le genre par des couleurs\n",
    "  \n",
    "   1. tracer les tailles des femmes en fonction de leurs poids\n",
    "\n",
    "   1. tracer les tailles des hommes en fonction de leurs poids"
   ]
  },
  {
   "cell_type": "code",
   "execution_count": null,
   "metadata": {},
   "outputs": [],
   "source": [
    "# votre code ici"
   ]
  },
  {
   "cell_type": "markdown",
   "metadata": {},
   "source": [
    "#### c. Tri de colonnes et plots\n",
    "   1. trier les tailles en ordre croissant et plotter les\n",
    "   1. plotter sur une même figure les tailles par genre\n",
    "   1. afficher les personnes de plus de 180 cm"
   ]
  },
  {
   "cell_type": "code",
   "execution_count": null,
   "metadata": {},
   "outputs": [],
   "source": [
    "# votre code ici"
   ]
  },
  {
   "cell_type": "markdown",
   "metadata": {},
   "source": [
    "### 5. statistiques simples \n",
    "   - afficher les statistiques simples de la DataFrame"
   ]
  },
  {
   "cell_type": "code",
   "execution_count": null,
   "metadata": {},
   "outputs": [],
   "source": [
    "# votre code ici"
   ]
  },
  {
   "cell_type": "markdown",
   "metadata": {},
   "source": [
    "## X. NaN"
   ]
  },
  {
   "cell_type": "markdown",
   "metadata": {},
   "source": [
    "**[cours]**\n",
    "   - les valeurs manquantes sont traitées dans le notebook `3-06-pandas-missing-data.ipynb`"
   ]
  },
  {
   "cell_type": "markdown",
   "metadata": {},
   "source": [
    "### 1. Lecture du csv\n",
    "   - lisez le fichier `car_sales.csv` (la première ligne contient le nom des colonnes)\n",
    "   - afficher les colonnes\n",
    "   - afficher les 5 première lignes"
   ]
  },
  {
   "cell_type": "code",
   "execution_count": null,
   "metadata": {},
   "outputs": [],
   "source": [
    "# votre code ici"
   ]
  },
  {
   "cell_type": "markdown",
   "metadata": {},
   "source": [
    "###   2. Nombres de NaN\n",
    "   - calculer et afficher le nombre de NaN par ligne et par colonne\n",
    "   - (sans boucle python)"
   ]
  },
  {
   "cell_type": "code",
   "execution_count": null,
   "metadata": {},
   "outputs": [],
   "source": [
    "# votre code ici"
   ]
  },
  {
   "cell_type": "markdown",
   "metadata": {},
   "source": [
    "### 3. Suppression de NaN"
   ]
  },
  {
   "cell_type": "markdown",
   "metadata": {},
   "source": [
    "#### a.\n",
    "   - supprimer les lignes (resp.colonnes) qui ont plus de $5$ NaN\n",
    "   - i.e. garder les lignes (resp. colonnes) qui ont au moins 152 (resp. 11) valeur non-NA"
   ]
  },
  {
   "cell_type": "code",
   "execution_count": null,
   "metadata": {},
   "outputs": [],
   "source": [
    "# votre code ici"
   ]
  },
  {
   "cell_type": "markdown",
   "metadata": {},
   "source": [
    "#### b.\n",
    "   - supprimer les lignes qui ont au moins un NaN\n",
    "   - supprimer les colonnes qui ont au moins un NaN"
   ]
  },
  {
   "cell_type": "code",
   "execution_count": null,
   "metadata": {},
   "outputs": [],
   "source": [
    "# votre code ici"
   ]
  },
  {
   "cell_type": "markdown",
   "metadata": {},
   "source": [
    "## XI. Pivot tables"
   ]
  },
  {
   "cell_type": "markdown",
   "metadata": {},
   "source": [
    "**[cours]**\n",
    "   - les \"pivot table\" dans le notebook `3-11-pandas-pivoting.ipynb`"
   ]
  },
  {
   "cell_type": "markdown",
   "metadata": {},
   "source": [
    "   - en utilisant le fichier `car_sales.csv`, on aimerait extraire plusieurs informations :\n",
    "       - la réussite des ventes en fonction du mois de lancement, pour savoir quels sont les mois de l'année les plus favorables ;\n",
    "       - le prix en fonction de la taille du moteur et de la puissance ;\n",
    "   - avec la fonction [`pd.pivot_table`](https://pandas.pydata.org/pandas-docs/stable/reference/api/pandas.pivot_table.html), créez les tableaux permettant d'afficher ces données."
   ]
  },
  {
   "cell_type": "code",
   "execution_count": null,
   "metadata": {},
   "outputs": [],
   "source": [
    "# votre code ici"
   ]
  }
 ],
 "metadata": {
  "kernelspec": {
   "display_name": "Python 3",
   "language": "python",
   "name": "python3"
  },
  "language_info": {
   "codemirror_mode": {
    "name": "ipython",
    "version": 3
   },
   "file_extension": ".py",
   "mimetype": "text/x-python",
   "name": "python",
   "nbconvert_exporter": "python",
   "pygments_lexer": "ipython3",
   "version": "3.7.3"
  }
 },
 "nbformat": 4,
 "nbformat_minor": 4
}
