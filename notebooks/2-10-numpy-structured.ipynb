{
 "cells": [
  {
   "cell_type": "markdown",
   "metadata": {},
   "source": [
    "<div class=\"licence\">\n",
    "<span>Licence CC BY-NC-ND</span>\n",
    "<span>Valérie Roy</span>\n",
    "<span><img src=\"../media/ensmp-25-alpha.png\" /></span>\n",
    "</div>"
   ]
  },
  {
   "cell_type": "code",
   "execution_count": null,
   "metadata": {},
   "outputs": [],
   "source": [
    "import numpy as np"
   ]
  },
  {
   "cell_type": "markdown",
   "metadata": {
    "slideshow": {
     "slide_type": "slide"
    }
   },
   "source": [
    "# structured arrays\n",
    "\n",
    "remember that in **homogeneous** arrays (i.e. *numpy.ndarray*), **all elements** have the **same type**\n",
    "\n",
    "we will see here how to create arrays of elements of a **structured type**"
   ]
  },
  {
   "cell_type": "markdown",
   "metadata": {
    "slideshow": {
     "slide_type": "slide"
    }
   },
   "source": [
    "## creating non-structured arrays\n",
    "\n",
    "in this example: *numpy* infers a *numpy.ndarray* of **shape** a $2 \\times 3$  \n",
    "each element is an array of **8** (unicode) characters"
   ]
  },
  {
   "cell_type": "code",
   "execution_count": null,
   "metadata": {
    "cell_style": "center"
   },
   "outputs": [],
   "source": [
    "names = np.array([('Carmen', 'Thompson', 27),\n",
    "                  ('Billie', 'Chambers', 25)])\n",
    "print(names)\n",
    "print(f\"shape is {names.shape}\")\n",
    "print(f\"data type is {names.dtype} \")"
   ]
  },
  {
   "cell_type": "markdown",
   "metadata": {
    "slideshow": {
     "slide_type": "slide"
    }
   },
   "source": [
    "## modifying non-structured arrays\n",
    "\n",
    "   - if we **modify** an element: we can **lose** information\n",
    "   - if the new value does not fit the size: it can be **truncated**"
   ]
  },
  {
   "cell_type": "code",
   "execution_count": null,
   "metadata": {
    "slideshow": {
     "slide_type": "-"
    }
   },
   "outputs": [],
   "source": [
    "print(names[0][0])\n",
    "\n",
    "names[0][0] = 'Jean-Sebastien' # trying to put 14 characters in an array of 8 characters !\n",
    "\n",
    "print(names[0][0])"
   ]
  },
  {
   "cell_type": "markdown",
   "metadata": {
    "slideshow": {
     "slide_type": "slide"
    }
   },
   "source": [
    "## creating structured arrays\n",
    "   - you **describe** the structure of elements using **dtype**\n",
    " \n",
    "the elements are described by a **tuple** of **named** and **typed** **fields**  \n",
    "in our example, each element is **composed** of 2 **fields**:\n",
    "   - *name*: an array of **10 characters** (unicode)\n",
    "   - *age*: a **32-bit float**"
   ]
  },
  {
   "cell_type": "code",
   "execution_count": null,
   "metadata": {
    "cell_style": "center"
   },
   "outputs": [],
   "source": [
    "names = np.array([('Carmen', 27.5),\n",
    "                  ('Billie', 25.4),],\n",
    "                 dtype = [('name', '<U10'),\n",
    "                          ('age', np.float32),])\n",
    "names.shape  # now you have two elements not 4!!"
   ]
  },
  {
   "cell_type": "markdown",
   "metadata": {
    "slideshow": {
     "slide_type": "slide"
    }
   },
   "source": [
    "## accessing elements and their fields"
   ]
  },
  {
   "cell_type": "markdown",
   "metadata": {},
   "source": [
    "an **element** is an **object** of the described **dtype**"
   ]
  },
  {
   "cell_type": "code",
   "execution_count": null,
   "metadata": {
    "cell_style": "split"
   },
   "outputs": [],
   "source": [
    "names[0]"
   ]
  },
  {
   "cell_type": "code",
   "execution_count": null,
   "metadata": {
    "cell_style": "split"
   },
   "outputs": [],
   "source": [
    "print( names[0]['name'] )\n",
    "print( names[0]['age']  )"
   ]
  },
  {
   "cell_type": "code",
   "execution_count": null,
   "metadata": {},
   "outputs": [],
   "source": [
    "names.itemsize  # size in bytes of an element\n",
    "                # 10 characters of 4 bytes each\n",
    "                # + 4 bytes for the 32-bits integer"
   ]
  },
  {
   "cell_type": "markdown",
   "metadata": {
    "slideshow": {
     "slide_type": "slide"
    }
   },
   "source": [
    "##  modify elements or fields of structured arrays"
   ]
  },
  {
   "cell_type": "markdown",
   "metadata": {
    "cell_style": "split"
   },
   "source": [
    "we can replace an element"
   ]
  },
  {
   "cell_type": "code",
   "execution_count": null,
   "metadata": {
    "cell_style": "split"
   },
   "outputs": [],
   "source": [
    "print(names)\n",
    "names[0] = ('Bob', 37.6)\n",
    "names[0]"
   ]
  },
  {
   "cell_type": "markdown",
   "metadata": {
    "cell_style": "split"
   },
   "source": [
    "we can modify an element"
   ]
  },
  {
   "cell_type": "code",
   "execution_count": null,
   "metadata": {
    "cell_style": "split"
   },
   "outputs": [],
   "source": [
    "# modifying\n",
    "names[0][0] = 'bilbo the hobbit' # truncated !!\n",
    "names"
   ]
  },
  {
   "cell_type": "markdown",
   "metadata": {
    "slideshow": {
     "slide_type": "slide"
    }
   },
   "source": [
    "you can apply **classic** methods and **functions** on **structured arrays** "
   ]
  }
 ],
 "metadata": {
  "celltoolbar": "Slideshow",
  "ipub": {
   "sphinx": {
    "toggle_input": true,
    "toggle_input_all": true,
    "toggle_output": true,
    "toggle_output_all": true
   }
  },
  "kernelspec": {
   "display_name": "Python 3",
   "language": "python",
   "name": "python3"
  },
  "language_info": {
   "codemirror_mode": {
    "name": "ipython",
    "version": 3
   },
   "file_extension": ".py",
   "mimetype": "text/x-python",
   "name": "python",
   "nbconvert_exporter": "python",
   "pygments_lexer": "ipython3",
   "version": "3.7.3"
  },
  "notebookname": "structured arrays",
  "rise": {
   "autolaunch": true,
   "slideNumber": "c/t",
   "start_slideshow_at": "selected",
   "theme": "sky",
   "transition": "cube"
  },
  "version": "1.0"
 },
 "nbformat": 4,
 "nbformat_minor": 4
}
