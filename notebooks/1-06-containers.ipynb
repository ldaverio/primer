{
 "cells": [
  {
   "cell_type": "markdown",
   "metadata": {
    "slideshow": {
     "slide_type": "slide"
    }
   },
   "source": [
    "<div class=\"licence\">\n",
    "<span>Licence CC BY-NC-ND</span>\n",
    "<span>Thierry Parmentelat</span>\n",
    "<span><img src=\"../media/inria-25-alpha.png\" /></span>\n",
    "</div>"
   ]
  },
  {
   "cell_type": "markdown",
   "metadata": {
    "slideshow": {
     "slide_type": ""
    }
   },
   "source": [
    "# types évolués"
   ]
  },
  {
   "cell_type": "markdown",
   "metadata": {
    "slideshow": {
     "slide_type": "slide"
    }
   },
   "source": [
    "## la liste\n",
    "\n",
    "permet de créer des collections très souples :\n",
    "\n",
    "* séquence d'objets de n'importe quel type\n",
    "* on peut insérer / détruire des objets \n",
    "* pas de contrainte sur la taille"
   ]
  },
  {
   "cell_type": "code",
   "execution_count": null,
   "metadata": {
    "cell_style": "split"
   },
   "outputs": [],
   "source": [
    "# on crée une liste avec des [ ]\n",
    "homogene = [0, 12]\n",
    "homogene"
   ]
  },
  {
   "cell_type": "code",
   "execution_count": null,
   "metadata": {
    "cell_style": "split"
   },
   "outputs": [],
   "source": [
    "# on peut mélanger \n",
    "# les types\n",
    "heterogene = [2.3, \"abc\"]\n",
    "heterogene"
   ]
  },
  {
   "cell_type": "code",
   "execution_count": null,
   "metadata": {
    "cell_style": "split"
   },
   "outputs": [],
   "source": [
    "# des listes dans des listes\n",
    "groupe = [True, homogene,\n",
    "          \"chaine\", heterogene]\n",
    "groupe"
   ]
  },
  {
   "cell_type": "code",
   "execution_count": null,
   "metadata": {
    "cell_style": "split"
   },
   "outputs": [],
   "source": [
    "type(groupe)"
   ]
  },
  {
   "cell_type": "code",
   "execution_count": null,
   "metadata": {
    "cell_style": "split",
    "slideshow": {
     "slide_type": "slide"
    }
   },
   "outputs": [],
   "source": [
    "groupe"
   ]
  },
  {
   "cell_type": "code",
   "execution_count": null,
   "metadata": {
    "cell_style": "split",
    "slideshow": {
     "slide_type": ""
    }
   },
   "outputs": [],
   "source": [
    "# comme avec les chaines \n",
    "# on peut accéder au i-ème élément \n",
    "# les indices commencent à 0\n",
    "\n",
    "# le premier élément est \n",
    "# donc le nombre complexe\n",
    "groupe[0]"
   ]
  },
  {
   "cell_type": "code",
   "execution_count": null,
   "metadata": {
    "cell_style": "split"
   },
   "outputs": [],
   "source": [
    "# on peut remplacer un élément\n",
    "groupe[1] = '-'\n",
    "groupe"
   ]
  },
  {
   "cell_type": "code",
   "execution_count": null,
   "metadata": {
    "cell_style": "split"
   },
   "outputs": [],
   "source": [
    "# et le dernier \n",
    "groupe[-1]"
   ]
  },
  {
   "cell_type": "code",
   "execution_count": null,
   "metadata": {
    "cell_style": "split"
   },
   "outputs": [],
   "source": [
    "# est heterogene\n",
    "groupe[-1] == heterogene"
   ]
  },
  {
   "cell_type": "code",
   "execution_count": null,
   "metadata": {
    "cell_style": "split"
   },
   "outputs": [],
   "source": [
    "# le slicing s'applique aussi\n",
    "# comme sur les chaines de caractère\n",
    "groupe[::2]"
   ]
  },
  {
   "cell_type": "markdown",
   "metadata": {
    "slideshow": {
     "slide_type": "slide"
    }
   },
   "source": [
    "## liste et opérateurs "
   ]
  },
  {
   "cell_type": "markdown",
   "metadata": {},
   "source": [
    "de nombreux opérateurs sont définis aussi sur les listes"
   ]
  },
  {
   "cell_type": "code",
   "execution_count": null,
   "metadata": {
    "cell_style": "split"
   },
   "outputs": [],
   "source": [
    "# on peut ajouter deux listes,\n",
    "# ça les concatène\n",
    "[1, 2, 3] + [4, 5, 6]"
   ]
  },
  {
   "cell_type": "code",
   "execution_count": null,
   "metadata": {
    "cell_style": "split"
   },
   "outputs": [],
   "source": [
    "# la comparaison est \n",
    "# lexicographique\n",
    "\n",
    "[1, 2, 3] <= [1, 2, 4]"
   ]
  },
  {
   "cell_type": "code",
   "execution_count": null,
   "metadata": {
    "cell_style": "split"
   },
   "outputs": [],
   "source": [
    "# l'opérateur d'appartenance\n",
    "'chaine' in groupe"
   ]
  },
  {
   "cell_type": "code",
   "execution_count": null,
   "metadata": {
    "cell_style": "split"
   },
   "outputs": [],
   "source": [
    "# et sa négation\n",
    "'tutu' not in groupe"
   ]
  },
  {
   "cell_type": "markdown",
   "metadata": {
    "slideshow": {
     "slide_type": "slide"
    }
   },
   "source": [
    "## itérations\n",
    "\n",
    "approfondi dans une section ultérieure  \n",
    "mais dans sa forme la plus simple: `for .. in .. :` "
   ]
  },
  {
   "cell_type": "code",
   "execution_count": null,
   "metadata": {},
   "outputs": [],
   "source": [
    "for item in groupe:\n",
    "    print(item)"
   ]
  },
  {
   "cell_type": "markdown",
   "metadata": {
    "slideshow": {
     "slide_type": "slide"
    }
   },
   "source": [
    "## listes et performances"
   ]
  },
  {
   "cell_type": "markdown",
   "metadata": {},
   "source": [
    "**À savoir** \n",
    "\n",
    "la liste est une structure de données très souple  \n",
    "mais qui du coup n'est pas très efficace  \n",
    "elle est surtout optimisée pour être accédée **par la fin**  \n",
    "du coup une utilisation fréquente est à base des méthodes `append` et `pop` "
   ]
  },
  {
   "cell_type": "code",
   "execution_count": null,
   "metadata": {
    "cell_style": "split"
   },
   "outputs": [],
   "source": [
    "tutu = []\n",
    "\n",
    "# on n'a pas encore vu le for \n",
    "# mais vous pouvez deviner ce que ça fait\n",
    "for c in 'abc':\n",
    "    tutu.append(c)\n",
    "    print(tutu)"
   ]
  },
  {
   "cell_type": "code",
   "execution_count": null,
   "metadata": {
    "cell_style": "split"
   },
   "outputs": [],
   "source": [
    "# et à l'envers\n",
    "while tutu:\n",
    "    c = tutu.pop()\n",
    "    print(c)"
   ]
  },
  {
   "cell_type": "markdown",
   "metadata": {},
   "source": [
    "MAIS cela n'est un problème qu'avec des données nombreuses - $10^4$  \n",
    "du coup pour des preuves de concept la liste est **TRÈS** flexible et pratique  "
   ]
  },
  {
   "cell_type": "markdown",
   "metadata": {
    "slideshow": {
     "slide_type": "slide"
    }
   },
   "source": [
    "## le tuple\n",
    "\n",
    "similaire à la liste, mais qu'on ne peut pas modifier  \n",
    "ne sera pas approfondi dans ce primer  \n",
    "on va voir tout de suite à quoi ça peut bien servir"
   ]
  },
  {
   "cell_type": "code",
   "execution_count": null,
   "metadata": {
    "cell_style": "split"
   },
   "outputs": [],
   "source": [
    "# ressemble à une liste, mais s'écrit avec des ()\n",
    "\n",
    "paquet = (12, \"abc\")\n",
    "paquet"
   ]
  },
  {
   "cell_type": "code",
   "execution_count": null,
   "metadata": {
    "cell_style": "split"
   },
   "outputs": [],
   "source": [
    "# on ne peut plus y toucher\n",
    "# paquet[0] = 15 n'est pas autorisé\n",
    "# ni paquet.append(0)"
   ]
  },
  {
   "cell_type": "markdown",
   "metadata": {
    "slideshow": {
     "slide_type": "slide"
    }
   },
   "source": [
    "## l'ensemble"
   ]
  },
  {
   "cell_type": "markdown",
   "metadata": {},
   "source": [
    "une autre forme de container, mais assez différent :  \n",
    "\n",
    "* comme pour les ensembles mathématiques, un même élément  \n",
    "  ne peut apparaitre qu'une seule fois dans un ensemble \n",
    "  \n",
    "* la recherche d'un élément dans un ensemble est **très efficace**  \n",
    "  contrairement aux listes, on n'a pas besoin de balayer tous les éléments    \n",
    "  repose sur la notion de table de hachage - détaillé dans le cours avancé\n",
    "  \n",
    "* par contre, limitation sur les éléments  \n",
    "  certains types ne sont pas éligibles\n",
    "  par ex. on ne peut pas mettre une liste dans un ensemble  \n",
    "  utiliser à la place un `tuple` "
   ]
  },
  {
   "cell_type": "code",
   "execution_count": null,
   "metadata": {
    "cell_style": "split",
    "slideshow": {
     "slide_type": "slide"
    }
   },
   "outputs": [],
   "source": [
    "# pour créer un ensemble \n",
    "ensemble = {12, \"abc\"}\n",
    "ensemble"
   ]
  },
  {
   "cell_type": "code",
   "execution_count": null,
   "metadata": {
    "cell_style": "split"
   },
   "outputs": [],
   "source": [
    "# méthode add() pour ajouter\n",
    "ensemble.add(True)\n",
    "ensemble"
   ]
  },
  {
   "cell_type": "code",
   "execution_count": null,
   "metadata": {
    "cell_style": "split"
   },
   "outputs": [],
   "source": [
    "# pas de doublon\n",
    "ensemble.add(\"abc\")\n",
    "ensemble"
   ]
  },
  {
   "cell_type": "code",
   "execution_count": null,
   "metadata": {
    "cell_style": "split"
   },
   "outputs": [],
   "source": [
    "# la recherche est rapide\n",
    "# bien sûr, c'est surtout intéressant \n",
    "# sur des grosses données\n",
    "\n",
    "12 in ensemble"
   ]
  },
  {
   "cell_type": "code",
   "execution_count": null,
   "metadata": {
    "cell_style": "split"
   },
   "outputs": [],
   "source": [
    "# on peut mettre un tuple dans un ensemble\n",
    "ensemble.add((2, 3))\n",
    "ensemble"
   ]
  },
  {
   "cell_type": "code",
   "execution_count": null,
   "metadata": {
    "cell_style": "split"
   },
   "outputs": [],
   "source": [
    "# et pour enlever\n",
    "ensemble.remove(12)\n",
    "ensemble"
   ]
  },
  {
   "cell_type": "markdown",
   "metadata": {
    "slideshow": {
     "slide_type": "slide"
    }
   },
   "source": [
    "## itérations"
   ]
  },
  {
   "cell_type": "markdown",
   "metadata": {},
   "source": [
    "forme la plus simple, idem : `for .. in ..`  \n",
    "attention qu'un ensemble n'a pas d'ordre naturel  \n",
    "depuis Python-3.7 le parcours se fait dans l'ordre des insertions"
   ]
  },
  {
   "cell_type": "code",
   "execution_count": null,
   "metadata": {},
   "outputs": [],
   "source": [
    "for item in ensemble:\n",
    "    print(item)"
   ]
  },
  {
   "cell_type": "markdown",
   "metadata": {
    "slideshow": {
     "slide_type": "slide"
    }
   },
   "source": [
    "## le dictionnaire\n",
    "\n",
    "aussi un container, mais cette fois c'est conceptuellement  \n",
    "un ensemble d'associations de la forme\n",
    "\n",
    "    clé → valeur\n"
   ]
  },
  {
   "cell_type": "code",
   "execution_count": null,
   "metadata": {
    "cell_style": "split"
   },
   "outputs": [],
   "source": [
    "# la syntaxe pour créer\n",
    "# un dictionnaire en clair\n",
    "annuaire = {'alice': 25, 'bob': 32}"
   ]
  },
  {
   "cell_type": "code",
   "execution_count": null,
   "metadata": {
    "cell_style": "split"
   },
   "outputs": [],
   "source": [
    "# les clés sont ici les 2 chaines\n",
    "# 'alice', 'bob'\n",
    "\n",
    "annuaire"
   ]
  },
  {
   "cell_type": "code",
   "execution_count": null,
   "metadata": {
    "cell_style": "split",
    "slideshow": {
     "slide_type": "slide"
    }
   },
   "outputs": [],
   "source": [
    "# on ne peut plus accéder par indice\n",
    "# annuaire[0] ne veut rien dire!\n",
    "\n",
    "# par contre on peut accéder par clé\n",
    "annuaire['bob']"
   ]
  },
  {
   "cell_type": "code",
   "execution_count": null,
   "metadata": {
    "cell_style": "split"
   },
   "outputs": [],
   "source": [
    "# pareil pour écrire\n",
    "# si la clé est inconnue on l'ajoute\n",
    "\n",
    "annuaire['eve'] = 40\n",
    "annuaire"
   ]
  },
  {
   "cell_type": "code",
   "execution_count": null,
   "metadata": {
    "cell_style": "split"
   },
   "outputs": [],
   "source": [
    "# si la clé existe déjà \n",
    "# on écrase la valeur associée\n",
    "annuaire['alice'] = 50\n",
    "annuaire"
   ]
  },
  {
   "cell_type": "code",
   "execution_count": null,
   "metadata": {
    "cell_style": "split"
   },
   "outputs": [],
   "source": [
    "# pour effacer une clé \n",
    "\n",
    "del annuaire['eve']\n",
    "annuaire"
   ]
  },
  {
   "cell_type": "code",
   "execution_count": null,
   "metadata": {
    "cell_style": "split",
    "slideshow": {
     "slide_type": ""
    }
   },
   "outputs": [],
   "source": [
    "annuaire"
   ]
  },
  {
   "cell_type": "code",
   "execution_count": null,
   "metadata": {
    "cell_style": "split"
   },
   "outputs": [],
   "source": [
    "# la recherche d'une clé est aussi rapide\n",
    "# que la recherche dans les ensembles\n",
    "\n",
    "'alice' in annuaire"
   ]
  },
  {
   "cell_type": "markdown",
   "metadata": {
    "slideshow": {
     "slide_type": "slide"
    }
   },
   "source": [
    "## digression : affectation multiple"
   ]
  },
  {
   "cell_type": "code",
   "execution_count": null,
   "metadata": {
    "cell_style": "split"
   },
   "outputs": [],
   "source": [
    "# plutôt que de faire\n",
    "a = 10\n",
    "b = 20\n",
    "\n",
    "print(f\"a={a}, b={b}\")"
   ]
  },
  {
   "cell_type": "code",
   "execution_count": null,
   "metadata": {
    "cell_style": "split"
   },
   "outputs": [],
   "source": [
    "# on peut faire en Python\n",
    "a, b = 10, 20\n",
    "\n",
    "print(f\"a={a}, b={b}\")"
   ]
  },
  {
   "cell_type": "markdown",
   "metadata": {},
   "source": [
    "dans ce contexte c'est un gadget, mais c'est intéressant parfois  \n",
    "car les termes à droite de `=` sont tous évalués avant de faire les affectations"
   ]
  },
  {
   "cell_type": "code",
   "execution_count": null,
   "metadata": {
    "slideshow": {
     "slide_type": ""
    }
   },
   "outputs": [],
   "source": [
    "# et ainsi on peut par exemple \n",
    "# échanger deux variables\n",
    "a, b = b, a\n",
    "\n",
    "print(f\"a={a}, b={b}\")"
   ]
  },
  {
   "cell_type": "markdown",
   "metadata": {
    "slideshow": {
     "slide_type": "slide"
    }
   },
   "source": [
    "## itération sur un dictionnaire"
   ]
  },
  {
   "cell_type": "markdown",
   "metadata": {},
   "source": [
    "même remarque que les ensembles : pas d'ordre naturel  \n",
    "depuis Python-3.7 le parcours se fait dans l'ordre des insertions"
   ]
  },
  {
   "cell_type": "code",
   "execution_count": null,
   "metadata": {},
   "outputs": [],
   "source": [
    "for cle, valeur in annuaire.items():\n",
    "    print(f\"{cle} → {valeur}\")"
   ]
  },
  {
   "cell_type": "markdown",
   "metadata": {},
   "source": [
    "cette forme est à mettre en rapport avec l'affectation multiple  \n",
    "dans ce sens que ça revient à faire ceci :"
   ]
  },
  {
   "cell_type": "code",
   "execution_count": null,
   "metadata": {},
   "outputs": [],
   "source": [
    "# en décomposant un peu pour bien comprendre\n",
    "for couple in annuaire.items():\n",
    "    cle, valeur = couple\n",
    "    print(f\"{cle} → {valeur}\")"
   ]
  },
  {
   "cell_type": "markdown",
   "metadata": {
    "slideshow": {
     "slide_type": "slide"
    }
   },
   "source": [
    "## fonctions et arguments multiples (1)"
   ]
  },
  {
   "cell_type": "markdown",
   "metadata": {},
   "source": [
    "mécanisme pour définir un nombre quelconque d'arguments à une fonction"
   ]
  },
  {
   "cell_type": "code",
   "execution_count": null,
   "metadata": {},
   "outputs": [],
   "source": [
    "# parfois on a envie qu'une fonction puisse \n",
    "# accepter un nombre variable d'arguments\n",
    "\n",
    "def foo(fixe, *variable):\n",
    "    \"\"\"\n",
    "    fixe reçoit le premier argument\n",
    "    variable reçoit un tuple avec tous les autres arguments de l'appel\n",
    "    \"\"\"\n",
    "    print(f\"premier argument: {fixe}\")\n",
    "    print(f\"les autres: {variable} - de type {type(variable)}\")\n",
    "    for item in variable:\n",
    "        print(f\"item {item}\")"
   ]
  },
  {
   "cell_type": "code",
   "execution_count": null,
   "metadata": {
    "cell_style": "split"
   },
   "outputs": [],
   "source": [
    "foo(1)"
   ]
  },
  {
   "cell_type": "code",
   "execution_count": null,
   "metadata": {
    "cell_style": "split"
   },
   "outputs": [],
   "source": [
    "foo(1, 2)"
   ]
  },
  {
   "cell_type": "code",
   "execution_count": null,
   "metadata": {},
   "outputs": [],
   "source": [
    "foo(1, 2, 3)"
   ]
  },
  {
   "cell_type": "markdown",
   "metadata": {
    "slideshow": {
     "slide_type": "notes"
    }
   },
   "source": [
    "Bien entendu on ne peut définir qu'un seul paramètre de ce genre, et il doit apparaitre en dernier dans la signature de la fonction. \n",
    "\n",
    "Si on pouvait en mettre plusieurs, il y aurait ambigüité quant à qui reçoit quoi."
   ]
  },
  {
   "cell_type": "markdown",
   "metadata": {
    "slideshow": {
     "slide_type": "slide"
    }
   },
   "source": [
    "## fonctions et arguments multiples (2)"
   ]
  },
  {
   "cell_type": "markdown",
   "metadata": {},
   "source": [
    "dans l'autre sens, si j'ai un container avec des objets \n",
    "que je veux passer individuellement à une fonction"
   ]
  },
  {
   "cell_type": "code",
   "execution_count": null,
   "metadata": {},
   "outputs": [],
   "source": [
    "# par exemple j'ai une liste\n",
    "args = [1, 2, 3]\n",
    "\n",
    "# et en fait je veux appeler \n",
    "# foo(1, 2, 3)\n",
    "# \n",
    "# je pourrais faire\n",
    "# foo(args[0], args[1], arg[2])\n",
    "# \n",
    "# mais bien sûr ça ne marchera \n",
    "# que si args contient 3 objets "
   ]
  },
  {
   "cell_type": "code",
   "execution_count": null,
   "metadata": {
    "cell_style": "split"
   },
   "outputs": [],
   "source": [
    "# dans ce cas on peut utiliser à nouveau \n",
    "# l'étoile, et faire plutôt\n",
    "foo(*args)"
   ]
  },
  {
   "cell_type": "code",
   "execution_count": null,
   "metadata": {
    "cell_style": "split"
   },
   "outputs": [],
   "source": [
    "# vérifions que c'est bien\n",
    "# ce qu'on voulait\n",
    "foo(1, 2, 3)"
   ]
  },
  {
   "cell_type": "markdown",
   "metadata": {
    "slideshow": {
     "slide_type": "notes"
    }
   },
   "source": [
    "À l'appel de la fonction par contre on peut passer plusieurs arguments étoilés, leurs composants sont simplement ajoutés dans l'ordre aux arguments de la fonction."
   ]
  },
  {
   "cell_type": "markdown",
   "metadata": {
    "slideshow": {
     "slide_type": "slide"
    }
   },
   "source": [
    "## résumé\n",
    "\n",
    "Python propose des types prédéfinis \n",
    "\n",
    "* `list` : un container flexible et ordonné, accessible par indice\n",
    "* plus accessoirement, `tuple` pour créer des containers similaires mais non modifiables\n",
    "* `set` : un container non-ordonné, sans doublon, et à recherche rapide\n",
    "* `dict` : un ensemble d'associations clé → valeur,  \n",
    "  à recherche rapide, accessible par clé\n",
    "\n",
    "* la forme `*args` permet aux fonctions d'accepter un nombre quelconque d'arguments\n",
    "  * définition `def foo(*args):`\n",
    "  * appel `foo(*args)`"
   ]
  }
 ],
 "metadata": {
  "celltoolbar": "Slideshow",
  "ipub": {
   "sphinx": {
    "toggle_input": true,
    "toggle_input_all": true,
    "toggle_output": true,
    "toggle_output_all": true
   }
  },
  "kernelspec": {
   "display_name": "Python 3",
   "language": "python",
   "name": "python3"
  },
  "language_info": {
   "codemirror_mode": {
    "name": "ipython",
    "version": 3
   },
   "file_extension": ".py",
   "mimetype": "text/x-python",
   "name": "python",
   "nbconvert_exporter": "python",
   "pygments_lexer": "ipython3",
   "version": "3.7.3"
  },
  "notebookname": "types évolués",
  "rise": {
   "autolaunch": true,
   "slideNumber": "c/t",
   "start_slideshow_at": "selected",
   "theme": "sky",
   "transition": "cube"
  },
  "version": "1.0"
 },
 "nbformat": 4,
 "nbformat_minor": 4
}
