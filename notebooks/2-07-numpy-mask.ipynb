{
 "cells": [
  {
   "cell_type": "markdown",
   "metadata": {},
   "source": [
    "<div class=\"licence\">\n",
    "<span>Licence CC BY-NC-ND</span>\n",
    "<span>Valérie Roy</span>\n",
    "<span><img src=\"../media/ensmp-25-alpha.png\" /></span>\n",
    "</div>"
   ]
  },
  {
   "cell_type": "code",
   "execution_count": null,
   "metadata": {},
   "outputs": [],
   "source": [
    "import numpy as np"
   ]
  },
  {
   "cell_type": "markdown",
   "metadata": {
    "slideshow": {
     "slide_type": "slide"
    }
   },
   "source": [
    "# Boolean masks and arrays indexing\n",
    "   - conditions are applied to all elements of the array"
   ]
  },
  {
   "cell_type": "markdown",
   "metadata": {
    "slideshow": {
     "slide_type": "slide"
    }
   },
   "source": [
    "### Boolean comparison operators\n",
    "\n",
    "   - are **UFuncs**\n",
    "   - when applied on arrays, they return the array of the **element-by-element comparisons**\n",
    "   \n",
    "   \n",
    "   - you obtain a **mask** that you can use to **filter** your array"
   ]
  },
  {
   "cell_type": "markdown",
   "metadata": {
    "slideshow": {
     "slide_type": "slide"
    }
   },
   "source": [
    "## example of boolean masks"
   ]
  },
  {
   "cell_type": "code",
   "execution_count": null,
   "metadata": {
    "cell_style": "center"
   },
   "outputs": [],
   "source": [
    "# we create a matrix of shape (3 x 4)\n",
    "a = np.random.randint(-10, 10, 12).reshape(3, 4)\n",
    "a"
   ]
  },
  {
   "cell_type": "markdown",
   "metadata": {
    "cell_style": "split"
   },
   "source": [
    "we compute mask of **even values**"
   ]
  },
  {
   "cell_type": "code",
   "execution_count": null,
   "metadata": {
    "cell_style": "split"
   },
   "outputs": [],
   "source": [
    "a%2 == 0\n"
   ]
  },
  {
   "cell_type": "markdown",
   "metadata": {
    "slideshow": {
     "slide_type": "slide"
    }
   },
   "source": [
    "## computing with masks of Boolean values\n",
    "   - we use *False ==0* and *True==1* to **compute useful** functions"
   ]
  },
  {
   "cell_type": "code",
   "execution_count": null,
   "metadata": {
    "cell_style": "center"
   },
   "outputs": [],
   "source": [
    "# we create a matrix of shape (3 x 4)\n",
    "a = np.random.randint(-10, 10, 12).reshape(3, 4)\n",
    "a"
   ]
  },
  {
   "cell_type": "markdown",
   "metadata": {
    "cell_style": "split"
   },
   "source": [
    "to **count** the number of **even** values:  \n",
    "we **compute** the **mask**  \n",
    "we **sum** (or **count**) the *1*"
   ]
  },
  {
   "cell_type": "code",
   "execution_count": null,
   "metadata": {
    "cell_style": "split"
   },
   "outputs": [],
   "source": [
    "np.sum(a%2==0)"
   ]
  },
  {
   "cell_type": "code",
   "execution_count": null,
   "metadata": {
    "cell_style": "split"
   },
   "outputs": [],
   "source": [
    "np.count_nonzero(a%2==0)"
   ]
  },
  {
   "cell_type": "markdown",
   "metadata": {
    "slideshow": {
     "slide_type": "slide"
    }
   },
   "source": [
    "## computing with masks along the rows axis"
   ]
  },
  {
   "cell_type": "code",
   "execution_count": null,
   "metadata": {
    "cell_style": "center"
   },
   "outputs": [],
   "source": [
    "# we create a matrix of shape (3 x 4)\n",
    "a = np.random.randint(-10, 10, 12).reshape(3, 4)\n",
    "a"
   ]
  },
  {
   "cell_type": "markdown",
   "metadata": {
    "cell_style": "split"
   },
   "source": [
    "to count nb of **even** values in **columns**:  \n",
    "we compute the **mask** of **even** values  \n",
    "and we sum along **axis 0** i.e. the **rows** axis"
   ]
  },
  {
   "cell_type": "code",
   "execution_count": null,
   "metadata": {
    "cell_style": "split"
   },
   "outputs": [],
   "source": [
    "np.sum(a%2==0, axis=0)"
   ]
  },
  {
   "cell_type": "markdown",
   "metadata": {
    "slideshow": {
     "slide_type": "slide"
    }
   },
   "source": [
    "## computing with masks along the columns axis **[OPTIONAL SLIDE]**"
   ]
  },
  {
   "cell_type": "code",
   "execution_count": null,
   "metadata": {
    "cell_style": "center"
   },
   "outputs": [],
   "source": [
    "# we create a matrix of shape (3 x 4)\n",
    "a = np.random.randint(-10, 10, 12).reshape(3, 4)\n",
    "a"
   ]
  },
  {
   "cell_type": "markdown",
   "metadata": {
    "cell_style": "split"
   },
   "source": [
    "\n",
    "to count the nb of **even** values in **rows**  \n",
    "we compute **mask** of even values  \n",
    "we sum along **axis 1** i.e. the **columns axis**"
   ]
  },
  {
   "cell_type": "code",
   "execution_count": null,
   "metadata": {
    "cell_style": "split"
   },
   "outputs": [],
   "source": [
    "np.sum(a%2==0, axis=1)"
   ]
  },
  {
   "cell_type": "markdown",
   "metadata": {
    "slideshow": {
     "slide_type": "slide"
    }
   },
   "source": [
    "## exercise of computation with boolean masks and axis  **[OPTIONAL SLIDE]**"
   ]
  },
  {
   "cell_type": "markdown",
   "metadata": {
    "cell_style": "center"
   },
   "source": [
    "   1. **test** if all elements in a matrix are **less than N** (without using *numpy.all*)\n",
    "   1. **test** if there exists at least one element **less that N** in a matrix  (without using *numpy.any*)"
   ]
  },
  {
   "cell_type": "markdown",
   "metadata": {
    "slideshow": {
     "slide_type": "slide"
    }
   },
   "source": [
    "## composing questions with boolean masks and axis"
   ]
  },
  {
   "cell_type": "code",
   "execution_count": null,
   "metadata": {
    "cell_style": "center"
   },
   "outputs": [],
   "source": [
    "# we create a matrix of shape *(3 x 3)*\n",
    "a = np.random.randint(0, 10, 9).reshape((3, 3))\n",
    "a"
   ]
  },
  {
   "cell_type": "markdown",
   "metadata": {
    "cell_style": "split"
   },
   "source": [
    "we count the number of elements in the array *a* that are: **less than 6** and **even** "
   ]
  },
  {
   "cell_type": "code",
   "execution_count": null,
   "metadata": {
    "cell_style": "split"
   },
   "outputs": [],
   "source": [
    "np.count_nonzero((a < 6) & (a%2 == 0))\n",
    "# use parentheses\n",
    "# and do not use and !!"
   ]
  },
  {
   "cell_type": "markdown",
   "metadata": {
    "slideshow": {
     "slide_type": "slide"
    }
   },
   "source": [
    "## logical operations\n",
    "\n",
    "in *numpy*\n",
    "\n",
    "   - you **must** use **bitwise** operators *&*, *|*, *~* \n",
    "   - or their respective *numpy* counterpart **np.logical_and**, **np.logical_or**, **np.logical_not**\n",
    "   \n",
    "   \n",
    "   - because only **bitwise** operators are applied **element-by-element** \n",
    "   \n",
    "   \n",
    "   - do not use the **python logical** operators *and*, *or*, *not*"
   ]
  },
  {
   "cell_type": "markdown",
   "metadata": {
    "slideshow": {
     "slide_type": "slide"
    }
   },
   "source": [
    "## Indexing arrays with **masks**\n",
    "   - you can compute the array of the **elements** for which the **mask is True**\n",
    "   - it creates a **new array**: it is **not** a **view** on the existing one"
   ]
  },
  {
   "cell_type": "code",
   "execution_count": null,
   "metadata": {
    "cell_style": "center"
   },
   "outputs": [],
   "source": [
    "# we create a (3 x 4) matrix\n",
    "a = np.random.randint(0, 11, 12).reshape(3, 4)\n",
    "a"
   ]
  },
  {
   "cell_type": "markdown",
   "metadata": {
    "cell_style": "split"
   },
   "source": [
    "values smaller than *5* in *a*"
   ]
  },
  {
   "cell_type": "code",
   "execution_count": null,
   "metadata": {
    "cell_style": "split"
   },
   "outputs": [],
   "source": [
    "a[a < 5]  # note that a[a<5].base is None"
   ]
  },
  {
   "cell_type": "markdown",
   "metadata": {
    "slideshow": {
     "slide_type": "slide"
    }
   },
   "source": [
    "## computing the index of elements from a mask\n",
    "   - you can compute the **indices** of the elements for which the **mask is True**\n",
    "   - with the function *numpy.argwhere*"
   ]
  },
  {
   "cell_type": "code",
   "execution_count": null,
   "metadata": {
    "cell_style": "center"
   },
   "outputs": [],
   "source": [
    "# we create a (2 x 4) matrix\n",
    "a = np.random.randint(0, 11, 8).reshape(2, 4); a"
   ]
  },
  {
   "cell_type": "markdown",
   "metadata": {
    "cell_style": "split"
   },
   "source": [
    "you obtain a **list of couples** $[i, j]$ where\n",
    "**i** is the rows index\n",
    "and **j** is the **columns** index"
   ]
  },
  {
   "cell_type": "code",
   "execution_count": null,
   "metadata": {
    "cell_style": "split"
   },
   "outputs": [],
   "source": [
    "np.argwhere(a <= 5)"
   ]
  },
  {
   "cell_type": "markdown",
   "metadata": {
    "slideshow": {
     "slide_type": "slide"
    }
   },
   "source": [
    "## index of elements in higher dimensions  **[OPTIONAL SLIDE]**"
   ]
  },
  {
   "cell_type": "code",
   "execution_count": null,
   "metadata": {
    "cell_style": "center"
   },
   "outputs": [],
   "source": [
    "a = np.random.randint(0, 11, 8).reshape(2, 2, 2) # two matrices of shape (3 x 4)\n",
    "a"
   ]
  },
  {
   "cell_type": "markdown",
   "metadata": {
    "cell_style": "split"
   },
   "source": [
    "you obtain a **list of triplets** $[k, i, j]$  \n",
    "where **k** is the **matrix**\n",
    "**i** the **rows** index\n",
    "and **j** is the **columns** index"
   ]
  },
  {
   "cell_type": "code",
   "execution_count": null,
   "metadata": {
    "cell_style": "split"
   },
   "outputs": [],
   "source": [
    "np.argwhere(a < 5)"
   ]
  },
  {
   "cell_type": "markdown",
   "metadata": {
    "slideshow": {
     "slide_type": "slide"
    }
   },
   "source": [
    "## advanced indexing\n",
    "\n",
    "   - you can create **sub-arrays** using **lists** or **ndarrays** of indices\n",
    "   - you obtain a **copy** of the **original** array"
   ]
  },
  {
   "cell_type": "code",
   "execution_count": null,
   "metadata": {
    "cell_style": "center"
   },
   "outputs": [],
   "source": [
    "a = np.random.randint(0, 10, 5) # a vector\n",
    "a"
   ]
  },
  {
   "cell_type": "code",
   "execution_count": null,
   "metadata": {
    "cell_style": "split"
   },
   "outputs": [],
   "source": [
    "# we create a python list of indices\n",
    "l = [0, 3, 0, 4]\n",
    "\n",
    "# we index 'a' by the list of indices\n",
    "a[l]  # you get a new array"
   ]
  },
  {
   "cell_type": "code",
   "execution_count": null,
   "metadata": {
    "cell_style": "split"
   },
   "outputs": [],
   "source": [
    "# we create an ndarray of indices\n",
    "n = np.array([0, 3, 0, 4])\n",
    "\n",
    "# we index 'a' by the ndarray of indices\n",
    "a[n]  # you get a new array"
   ]
  },
  {
   "cell_type": "markdown",
   "metadata": {
    "slideshow": {
     "slide_type": "slide"
    }
   },
   "source": [
    "## modifying elements of an array\n",
    "   - based on conditions with the function *numpy.putmask*"
   ]
  },
  {
   "cell_type": "code",
   "execution_count": null,
   "metadata": {},
   "outputs": [],
   "source": [
    "a = np.random.randn(10).reshape(2, 5); a"
   ]
  },
  {
   "cell_type": "markdown",
   "metadata": {
    "cell_style": "split"
   },
   "source": [
    "**replace** values between *-0.5* and *0.5* with some value here ($0$)"
   ]
  },
  {
   "cell_type": "code",
   "execution_count": null,
   "metadata": {
    "cell_style": "split"
   },
   "outputs": [],
   "source": [
    "np.putmask(a,\n",
    "           (-0.5 < a) & ( a <0.5),\n",
    "           0)\n",
    "# it modifies a !"
   ]
  },
  {
   "cell_type": "markdown",
   "metadata": {
    "slideshow": {
     "slide_type": "slide"
    }
   },
   "source": [
    "## sorting arrays using advanced indexing  **[OPTIONAL SLIDE]**\n",
    "\n",
    "we want to **sort** the array *a*, along a **given column** and **keep** the **rows** the same "
   ]
  },
  {
   "cell_type": "code",
   "execution_count": null,
   "metadata": {},
   "outputs": [],
   "source": [
    "a = np.array([[5, 2, 0], [9, 3, 8], [7, 0, 6]])\n",
    "a"
   ]
  },
  {
   "cell_type": "markdown",
   "metadata": {
    "cell_style": "split"
   },
   "source": [
    "we sort the array **by** the **second column** *a[:, 1]* is $[2_0, 3_1, 0_2]$  \n",
    "we get the **indices** of the **sorted column** [2, 0, 1]  \n",
    "we **index** the array by the **array of indices** - it is called **advanced** indexing   \n",
    "it returns a **copy** of the array, **not** a **view**"
   ]
  },
  {
   "cell_type": "code",
   "execution_count": null,
   "metadata": {
    "cell_style": "split",
    "slideshow": {
     "slide_type": "slide"
    }
   },
   "outputs": [],
   "source": [
    "# the indices of the sorted second column\n",
    "np.argsort(a[:, 1])"
   ]
  },
  {
   "cell_type": "code",
   "execution_count": null,
   "metadata": {
    "cell_style": "split"
   },
   "outputs": [],
   "source": [
    "a[ np.argsort(a[:, 1]) ]"
   ]
  },
  {
   "cell_type": "code",
   "execution_count": null,
   "metadata": {
    "cell_style": "split"
   },
   "outputs": [],
   "source": [
    "a"
   ]
  }
 ],
 "metadata": {
  "celltoolbar": "Slideshow",
  "ipub": {
   "sphinx": {
    "toggle_input": true,
    "toggle_input_all": true,
    "toggle_output": true,
    "toggle_output_all": true
   }
  },
  "kernelspec": {
   "display_name": "Python 3",
   "language": "python",
   "name": "python3"
  },
  "language_info": {
   "codemirror_mode": {
    "name": "ipython",
    "version": 3
   },
   "file_extension": ".py",
   "mimetype": "text/x-python",
   "name": "python",
   "nbconvert_exporter": "python",
   "pygments_lexer": "ipython3",
   "version": "3.7.3"
  },
  "notebookname": "masks",
  "rise": {
   "autolaunch": true,
   "slideNumber": "c/t",
   "start_slideshow_at": "selected",
   "theme": "sky",
   "transition": "cube"
  },
  "version": "1.0"
 },
 "nbformat": 4,
 "nbformat_minor": 4
}
