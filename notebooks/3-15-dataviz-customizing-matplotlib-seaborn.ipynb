{
 "cells": [
  {
   "cell_type": "markdown",
   "metadata": {},
   "source": [
    "<div class=\"licence\">\n",
    "<span>Licence CC BY-NC-ND</span>\n",
    "<span>Valérie Roy</span>\n",
    "<span><img src=\"../media/ensmp-25-alpha.png\" /></span>\n",
    "</div>"
   ]
  },
  {
   "cell_type": "code",
   "execution_count": null,
   "metadata": {},
   "outputs": [],
   "source": [
    "import matplotlib.pyplot as plt\n",
    "\n",
    "%matplotlib inline"
   ]
  },
  {
   "cell_type": "code",
   "execution_count": null,
   "metadata": {},
   "outputs": [],
   "source": [
    "import pandas as pd\n",
    "import numpy as np"
   ]
  },
  {
   "cell_type": "markdown",
   "metadata": {
    "slideshow": {
     "slide_type": "slide"
    }
   },
   "source": [
    "## customizing **matplotlib** "
   ]
  },
  {
   "cell_type": "markdown",
   "metadata": {},
   "source": [
    "   - **matplotlib** provides **pre-defined** **styles**\n",
    "   - that you can **set globally**"
   ]
  },
  {
   "cell_type": "markdown",
   "metadata": {
    "slideshow": {
     "slide_type": "slide"
    }
   },
   "source": [
    "### listing the available styles"
   ]
  },
  {
   "cell_type": "code",
   "execution_count": null,
   "metadata": {},
   "outputs": [],
   "source": [
    "from matplotlib import pyplot as plt\n",
    "import numpy as np"
   ]
  },
  {
   "cell_type": "code",
   "execution_count": null,
   "metadata": {},
   "outputs": [],
   "source": [
    "print(plt.style.available)"
   ]
  },
  {
   "cell_type": "markdown",
   "metadata": {},
   "source": [
    "   - you can see a lot of **seaborn** styles\n",
    "   - we will speak of **seaborn** later on"
   ]
  },
  {
   "cell_type": "markdown",
   "metadata": {
    "slideshow": {
     "slide_type": "slide"
    }
   },
   "source": [
    "### setting a global style in your current environment"
   ]
  },
  {
   "cell_type": "code",
   "execution_count": null,
   "metadata": {},
   "outputs": [],
   "source": [
    "plt.style.use('ggplot') # a popular plotting-style\n",
    "plt.plot(np.sin(np.linspace(0, 4*np.pi, 100)));"
   ]
  },
  {
   "cell_type": "markdown",
   "metadata": {
    "slideshow": {
     "slide_type": "slide"
    }
   },
   "source": [
    "   - you can **isolate** the effect of a style\n",
    "   - in a **context manager** (Python's `with` instruction)\n",
    "   - for creating custom styles: https://matplotlib.org/users/customizing.html"
   ]
  },
  {
   "cell_type": "code",
   "execution_count": null,
   "metadata": {},
   "outputs": [],
   "source": [
    "with plt.style.context(('dark_background')):   # set a style locally (in the body of the with)\n",
    "    plt.plot(np.sin(np.linspace(0, 2 * np.pi)))\n",
    "plt.show()\n",
    "plt.plot(np.sin(np.linspace(0, 2 * np.pi)));   # use the previously globally-set style"
   ]
  },
  {
   "cell_type": "markdown",
   "metadata": {
    "slideshow": {
     "slide_type": "slide"
    }
   },
   "source": [
    "### the **xkcd** style\n",
    "   - https://xkcd.com/676/\n",
    "   - https://matplotlib.org/xkcd/gallery.html\n",
    "   \n",
    "   \n",
    "   - installing new **fonts** in **matplotlib**\n",
    "   - is **outside** the **scope** of this **introduction**\n",
    "   - **refer** to the documentation - *RTFM* ;)"
   ]
  },
  {
   "cell_type": "code",
   "execution_count": null,
   "metadata": {},
   "outputs": [],
   "source": [
    "with plt.xkcd():\n",
    "    plt.plot(np.sin(np.linspace(0, 4*np.pi)))\n",
    "    plt.title('Whoo Hoo!!!');"
   ]
  },
  {
   "cell_type": "markdown",
   "metadata": {
    "slideshow": {
     "slide_type": "slide"
    }
   },
   "source": [
    "# seaborn\n",
    "http://seaborn.pydata.org/index.html"
   ]
  },
  {
   "cell_type": "markdown",
   "metadata": {},
   "source": [
    "   - it is built on top of Matplotlib\n",
    "   - default styles and color palettes are more sophisticated than Matplotlib\n",
    "   - it is a higher-level library than matplotlib i.e. it iss easier to generate certain kinds of plots\n",
    "      \n",
    "  - **seaborn** is for more complex statistical visualizations.\n",
    "Use matplotlib to customize the pandas or seaborn visualization.\n",
    "\n"
   ]
  },
  {
   "cell_type": "markdown",
   "metadata": {},
   "source": [
    "   - a **library** dedicated to **statistical graphics** in Python\n",
    "   - built **on top** of **matplotlib**\n",
    "   - **closely** integrated with **pandas**"
   ]
  },
  {
   "cell_type": "markdown",
   "metadata": {
    "slideshow": {
     "slide_type": "slide"
    }
   },
   "source": [
    "# seaborn"
   ]
  },
  {
   "cell_type": "markdown",
   "metadata": {},
   "source": [
    "   - a **library** dedicated to **statistical graphics** in Python\n",
    "   - built **on top** of **matplotlib**\n",
    "   - **closely** integrated with **pandas**\n",
    "   - i.e. **plotting functions** operate on **dataframes** and **arrays**\n"
   ]
  },
  {
   "cell_type": "markdown",
   "metadata": {},
   "source": [
    "   - it offers API specialized on **statistics**\n",
    "   - it eases **visualising** the structure of complex datasets (through abstractions)\n",
    "   - it eases **controling** **matplotlib** figures **styling** with **built-in themes**\n",
    "   - it makes **visualization** a **central part** of **exploring** and **understanding** data"
   ]
  },
  {
   "cell_type": "markdown",
   "metadata": {
    "slideshow": {
     "slide_type": "slide"
    }
   },
   "source": [
    "**installation**"
   ]
  },
  {
   "cell_type": "markdown",
   "metadata": {},
   "source": [
    "As always, **from a terminal**:\n",
    "\n",
    "```bash\n",
    "$ pip install seaborn\n",
    "```"
   ]
  },
  {
   "cell_type": "code",
   "execution_count": null,
   "metadata": {},
   "outputs": [],
   "source": [
    "# once it is installed you can import \n",
    "import seaborn as sns"
   ]
  },
  {
   "cell_type": "markdown",
   "metadata": {
    "slideshow": {
     "slide_type": "slide"
    }
   },
   "source": [
    "   - **seaborn** offers many **features**\n",
    "   - but **further** customization requires **matplotlib directly**"
   ]
  },
  {
   "cell_type": "code",
   "execution_count": null,
   "metadata": {},
   "outputs": [],
   "source": [
    "sns.set()\n",
    "tips = sns.load_dataset(\"tips\")\n",
    "sns.relplot(x=\"total_bill\", y=\"tip\", col=\"time\",\n",
    "            hue=\"smoker\", style=\"smoker\", size=\"size\",\n",
    "            data=tips);"
   ]
  }
 ],
 "metadata": {
  "celltoolbar": "Slideshow",
  "ipub": {
   "sphinx": {
    "toggle_input": true,
    "toggle_input_all": true,
    "toggle_output": true,
    "toggle_output_all": true
   }
  },
  "kernelspec": {
   "display_name": "Python 3",
   "language": "python",
   "name": "python3"
  },
  "language_info": {
   "codemirror_mode": {
    "name": "ipython",
    "version": 3
   },
   "file_extension": ".py",
   "mimetype": "text/x-python",
   "name": "python",
   "nbconvert_exporter": "python",
   "pygments_lexer": "ipython3",
   "version": "3.7.3"
  },
  "notebookname": "dataviz in Python",
  "rise": {
   "autolaunch": true,
   "slideNumber": "c/t",
   "start_slideshow_at": "selected",
   "theme": "sky",
   "transition": "cube"
  },
  "version": "1.0"
 },
 "nbformat": 4,
 "nbformat_minor": 4
}
