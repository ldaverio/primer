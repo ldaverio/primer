{
 "cells": [
  {
   "cell_type": "markdown",
   "metadata": {},
   "source": [
    "<div class=\"licence\">\n",
    "<span>Licence CC BY-NC-ND</span>\n",
    "<span>Valérie Roy</span>\n",
    "<span><img src=\"../media/ensmp-25-alpha.png\" /></span>\n",
    "</div>"
   ]
  },
  {
   "cell_type": "code",
   "execution_count": null,
   "metadata": {},
   "outputs": [],
   "source": [
    "import matplotlib.pyplot as plt\n",
    "\n",
    "%matplotlib inline"
   ]
  },
  {
   "cell_type": "code",
   "execution_count": null,
   "metadata": {},
   "outputs": [],
   "source": [
    "import pandas as pd\n",
    "import numpy as np"
   ]
  },
  {
   "cell_type": "markdown",
   "metadata": {
    "slideshow": {
     "slide_type": "slide"
    }
   },
   "source": [
    "# plotting figures in 3D "
   ]
  },
  {
   "cell_type": "markdown",
   "metadata": {},
   "source": [
    "   - the 3D visualization tools are part of a separate library"
   ]
  },
  {
   "cell_type": "code",
   "execution_count": null,
   "metadata": {},
   "outputs": [],
   "source": [
    "from mpl_toolkits.mplot3d import Axes3D"
   ]
  },
  {
   "cell_type": "markdown",
   "metadata": {
    "slideshow": {
     "slide_type": "slide"
    }
   },
   "source": [
    "Suppose you want to plot a $\\mathbb{R}^2→\\mathbb{R}$ function using a grid of points:"
   ]
  },
  {
   "cell_type": "markdown",
   "metadata": {},
   "source": [
    "   - you define a rectangular domain\n",
    "   - you cover that area with a set of **couples** *(x, y)*\n",
    "   - you **compute** the function on **each** point\n",
    "   - you plot the **image** using a 3DAxes"
   ]
  },
  {
   "cell_type": "markdown",
   "metadata": {
    "slideshow": {
     "slide_type": "slide"
    }
   },
   "source": [
    "example of the Gaussian function: on variable $x$ and $y$:\n",
    "   - $\\Gamma(x, y)=\n",
    "\\dfrac{1}{(2 \\pi \\sigma^2)}e^{-\\dfrac{[(x-\\mu_x)^2+(y-\\mu_y)^2]}{(2 \\sigma^2))}}$ "
   ]
  },
  {
   "cell_type": "code",
   "execution_count": null,
   "metadata": {},
   "outputs": [],
   "source": [
    "def gamma(x, y, mu_x, mu_y, sigma):\n",
    "    return (np.exp(-(np.power(x - mu_x, 2) + np.power(y - mu_y, 2))\n",
    "                    / (2*sigma**2))\n",
    "             / (2 * np.pi * sigma**2))"
   ]
  },
  {
   "cell_type": "markdown",
   "metadata": {
    "slideshow": {
     "slide_type": "slide"
    }
   },
   "source": [
    "**the grid for a rectangular domain**"
   ]
  },
  {
   "cell_type": "code",
   "execution_count": null,
   "metadata": {
    "slideshow": {
     "slide_type": ""
    }
   },
   "outputs": [],
   "source": [
    "# uncomment to get the doc,\n",
    "# this basically does a cartesian product\n",
    "#np.meshgrid?\n",
    "\n",
    "domain_x = np.linspace(-2*np.pi, 2*np.pi)   \n",
    "domain_y = np.linspace(0, 5)\n",
    "\n",
    "# creating the grid \n",
    "X, Y = np.meshgrid(domain_x, domain_y)\n",
    "\n",
    "# the default number of points in linspace() is 50\n",
    "# so through meshgrid we get 50 x 50 points\n",
    "# that cover the rectangular domain\n",
    "X.shape   # Y.shape is the same"
   ]
  },
  {
   "cell_type": "code",
   "execution_count": null,
   "metadata": {
    "slideshow": {
     "slide_type": "slide"
    }
   },
   "outputs": [],
   "source": [
    "# compute Z for each couple (x, y)\n",
    "Z = gamma(X, Y, np.pi, 2.5, 1)\n",
    "\n",
    "# and now we can display \n",
    "\n",
    "# create a figure\n",
    "fig = plt.figure()\n",
    "\n",
    "# create the (3D) axis of the figure \n",
    "ax = Axes3D(fig)\n",
    "\n",
    "# plotting\n",
    "ax.plot_surface(X, Y, Z, cmap='winter');"
   ]
  },
  {
   "cell_type": "code",
   "execution_count": null,
   "metadata": {
    "slideshow": {
     "slide_type": "slide"
    }
   },
   "outputs": [],
   "source": [
    "# alternatively, we could also have displayed\n",
    "# Z as an image, but in that case we lose \n",
    "# references to X and Y domains\n",
    "\n",
    "plt.imshow(Z)\n",
    "plt.axis('on')  # to how the axis \n",
    "cc = plt.colorbar()"
   ]
  },
  {
   "cell_type": "markdown",
   "metadata": {
    "slideshow": {
     "slide_type": "slide"
    }
   },
   "source": [
    "###### exercice:\n",
    "   1. create two arrays $x$ and $y$ from $-d$  to $d$ with a step $0.5$ \n",
    "   1. compute the **meshgrid**\n",
    "   1. compute the **euclidian distance** of the points of the grid (from origin)\n",
    "   1. compute the **sinus** of the distances\n",
    "   1. create the **figure** and the **axe** (the plot)\n",
    "   1. draw the **sinus** in **3D**\n",
    "   1. do the same but create the function **distance** and call it"
   ]
  },
  {
   "cell_type": "code",
   "execution_count": null,
   "metadata": {
    "slideshow": {
     "slide_type": "slide"
    }
   },
   "outputs": [],
   "source": [
    "# 1\n",
    "d_x = 4\n",
    "d_y = 5\n",
    "step = 0.25\n",
    "\n",
    "x = np.arange(-d_x, d_x, step)\n",
    "y = np.arange(-d_y, d_y, step)\n",
    "\n",
    "# 2\n",
    "x_mg, y_mg = np.meshgrid(x, y)\n",
    "\n",
    "# 3\n",
    "d = np.sqrt(x_mg**2 + y_mg**2)\n",
    "\n",
    "# 4\n",
    "z = np.sin(d)\n",
    "\n",
    "# 5\n",
    "fig = plt.figure()\n",
    "ax = Axes3D(fig)\n",
    "\n",
    "# 6\n",
    "ax.plot_surface(x_mg, y_mg, z, cmap='Reds')\n",
    "d.shape"
   ]
  },
  {
   "cell_type": "code",
   "execution_count": null,
   "metadata": {
    "slideshow": {
     "slide_type": "slide"
    }
   },
   "outputs": [],
   "source": [
    "# 1\n",
    "d_x = 4\n",
    "d_y = 5\n",
    "step = 0.25\n",
    "\n",
    "x = np.arange(-d_x, d_x, step)\n",
    "y = np.arange(-d_y, d_y, step)\n",
    "\n",
    "# 2\n",
    "x_mg, y_mg = np.meshgrid(x, y)\n",
    "\n",
    "# 7 \n",
    "def dist (a, b):\n",
    "    return np.sqrt(a**2 + b**2)\n",
    "\n",
    "# 4\n",
    "z = np.sin(dist(x_mg, y_mg))\n",
    "\n",
    "# 5\n",
    "fig = plt.figure()\n",
    "ax = Axes3D(fig)\n",
    "\n",
    "# 6\n",
    "ax.plot_surface(x_mg, y_mg, z, cmap='Blues')\n",
    "d.shape"
   ]
  }
 ],
 "metadata": {
  "celltoolbar": "Slideshow",
  "ipub": {
   "sphinx": {
    "toggle_input": true,
    "toggle_input_all": true,
    "toggle_output": true,
    "toggle_output_all": true
   }
  },
  "kernelspec": {
   "display_name": "Python 3",
   "language": "python",
   "name": "python3"
  },
  "language_info": {
   "codemirror_mode": {
    "name": "ipython",
    "version": 3
   },
   "file_extension": ".py",
   "mimetype": "text/x-python",
   "name": "python",
   "nbconvert_exporter": "python",
   "pygments_lexer": "ipython3",
   "version": "3.7.3"
  },
  "notebookname": "dataviz in Python",
  "rise": {
   "autolaunch": true,
   "slideNumber": "c/t",
   "start_slideshow_at": "selected",
   "theme": "sky",
   "transition": "cube"
  },
  "version": "1.0"
 },
 "nbformat": 4,
 "nbformat_minor": 4
}
