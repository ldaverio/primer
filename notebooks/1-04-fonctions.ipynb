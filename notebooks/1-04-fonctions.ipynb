{
 "cells": [
  {
   "cell_type": "markdown",
   "metadata": {
    "slideshow": {
     "slide_type": "slide"
    }
   },
   "source": [
    "<div class=\"licence\">\n",
    "<span>Licence CC BY-NC-ND</span>\n",
    "<span>Thierry Parmentelat</span>\n",
    "<span><img src=\"../media/inria-25-alpha.png\" /></span>\n",
    "</div>"
   ]
  },
  {
   "cell_type": "markdown",
   "metadata": {
    "slideshow": {
     "slide_type": ""
    }
   },
   "source": [
    "# fonctions"
   ]
  },
  {
   "cell_type": "markdown",
   "metadata": {
    "slideshow": {
     "slide_type": "slide"
    }
   },
   "source": [
    "## le mot clé `def`\n",
    "\n",
    "on définit une fonction avec le mot-clé `def`"
   ]
  },
  {
   "cell_type": "code",
   "execution_count": null,
   "metadata": {
    "cell_style": "split"
   },
   "outputs": [],
   "source": [
    "# remarquez: \n",
    "# . l'indentation \n",
    "# . le mot clé return\n",
    "# . le docstring \n",
    "\n",
    "def P(x):\n",
    "    \"\"\"\n",
    "    la fonction P implémente \n",
    "    le polynôme \n",
    "    que l'on étudie\n",
    "    \"\"\"\n",
    "    return x**2 + 3*x + 2"
   ]
  },
  {
   "cell_type": "code",
   "execution_count": null,
   "metadata": {
    "cell_style": "split"
   },
   "outputs": [],
   "source": [
    "# un appel\n",
    "P(10)"
   ]
  },
  {
   "cell_type": "code",
   "execution_count": null,
   "metadata": {
    "cell_style": "split"
   },
   "outputs": [],
   "source": [
    "P(100)"
   ]
  },
  {
   "cell_type": "code",
   "execution_count": null,
   "metadata": {
    "cell_style": "split"
   },
   "outputs": [],
   "source": [
    "# le docstring est rangé\n",
    "# dans la fonction \n",
    "help(P)"
   ]
  },
  {
   "cell_type": "markdown",
   "metadata": {
    "slideshow": {
     "slide_type": "slide"
    }
   },
   "source": [
    "## syntaxe"
   ]
  },
  {
   "cell_type": "markdown",
   "metadata": {},
   "source": [
    "en Python, les sauts de ligne et la présentation (indentation)  \n",
    "**font partie de la syntaxe**  \n",
    "c'est différent d'autres langages comme C++, Java, Javascript, ...  \n",
    "ce choix est fait pour **augmenter la lisibilité**  \n",
    "car on n'a alors pas besoin de sucre syntaxique comme `begin .. end` ou autres `{ .. } `"
   ]
  },
  {
   "cell_type": "markdown",
   "metadata": {
    "slideshow": {
     "slide_type": "slide"
    }
   },
   "source": [
    "## syntaxe - illustration  \n",
    "\n",
    "c'est l'indentation qui détermine la structure  \n",
    "l'usage est d'indenter de **4 espaces**  \n",
    "et de ne **pas utiliser** de tabulations (trop variables)"
   ]
  },
  {
   "cell_type": "markdown",
   "metadata": {
    "cell_style": "split"
   },
   "source": [
    "```c++\n",
    "// en Javascript \n",
    "// on écrirait\n",
    "function foo(i) {\n",
    "    if (i <= 0) {\n",
    "        fonction1(i);\n",
    "        fonction2(i);\n",
    "    } else {\n",
    "        fonction3(i);\n",
    "    }\n",
    "}\n",
    "```"
   ]
  },
  {
   "cell_type": "markdown",
   "metadata": {
    "cell_style": "split"
   },
   "source": [
    "```python\n",
    "# en Python ce serait\n",
    "def foo(i):\n",
    "    if i <= 0:\n",
    "        fonction1(i)\n",
    "        fonction2(i)\n",
    "    else:\n",
    "        fonction3(i)\n",
    "```"
   ]
  },
  {
   "cell_type": "markdown",
   "metadata": {
    "slideshow": {
     "slide_type": "slide"
    }
   },
   "source": [
    "## mot-clé `if`"
   ]
  },
  {
   "cell_type": "markdown",
   "metadata": {
    "cell_style": "split"
   },
   "source": [
    "forme générale\n",
    "\n",
    "```python\n",
    "if exp1:\n",
    "    ...\n",
    "    ...\n",
    "elif exp2:\n",
    "    ...\n",
    "    ...\n",
    "else:\n",
    "    ...\n",
    "    ...\n",
    "```"
   ]
  },
  {
   "cell_type": "code",
   "execution_count": null,
   "metadata": {
    "cell_style": "split"
   },
   "outputs": [],
   "source": [
    "note = 14\n",
    "appreciation = None\n",
    "\n",
    "if note >= 16:\n",
    "    appreciation = 'félicitations'\n",
    "elif note >= 10:\n",
    "    appreciation = 'reçu'\n",
    "else:\n",
    "    appreciation = 'recalé'"
   ]
  },
  {
   "cell_type": "code",
   "execution_count": null,
   "metadata": {},
   "outputs": [],
   "source": [
    "appreciation"
   ]
  },
  {
   "cell_type": "markdown",
   "metadata": {
    "cell_style": "split",
    "slideshow": {
     "slide_type": "slide"
    }
   },
   "source": [
    "## boucle `while`\n",
    "\n",
    "forme générale  \n",
    "\n",
    "```python\n",
    "while exp:\n",
    "    ...\n",
    "    ...\n",
    "```"
   ]
  },
  {
   "cell_type": "code",
   "execution_count": null,
   "metadata": {
    "cell_style": "split"
   },
   "outputs": [],
   "source": [
    "n = 132\n",
    "log = 0\n",
    "\n",
    "while n >= 1:\n",
    "    log = log + 1\n",
    "    n = n // 2"
   ]
  },
  {
   "cell_type": "code",
   "execution_count": null,
   "metadata": {
    "cell_style": "split"
   },
   "outputs": [],
   "source": [
    "log"
   ]
  },
  {
   "cell_type": "markdown",
   "metadata": {
    "slideshow": {
     "slide_type": "slide"
    }
   },
   "source": [
    "## `return`"
   ]
  },
  {
   "cell_type": "markdown",
   "metadata": {},
   "source": [
    "une fonction est censée retourner quelque chose  \n",
    "\n",
    "    resultat = fonction(arguments)\n",
    "    \n",
    "avec `return` on indique ce qui est le résultat  \n",
    "l'exécution de la fonction **s'arrête** à ce moment-là  \n",
    "si pas de `return`, le retour est `None` "
   ]
  },
  {
   "cell_type": "code",
   "execution_count": null,
   "metadata": {
    "cell_style": "split",
    "slideshow": {
     "slide_type": "slide"
    }
   },
   "outputs": [],
   "source": [
    "# une fonction incomplète\n",
    "def broken_abs(n):\n",
    "    if n <= 0:\n",
    "        return -n"
   ]
  },
  {
   "cell_type": "code",
   "execution_count": null,
   "metadata": {
    "cell_style": "split"
   },
   "outputs": [],
   "source": [
    "# avec un négatif \n",
    "\n",
    "broken_abs(-10)"
   ]
  },
  {
   "cell_type": "code",
   "execution_count": null,
   "metadata": {
    "cell_style": "split"
   },
   "outputs": [],
   "source": [
    "# ici la fonction retourne None\n",
    "# du coup le notebook n'affiche rien\n",
    "broken_abs(10)"
   ]
  },
  {
   "cell_type": "code",
   "execution_count": null,
   "metadata": {
    "cell_style": "split"
   },
   "outputs": [],
   "source": [
    "def fixed_abs(n):\n",
    "    if n <= 0:\n",
    "        return -n\n",
    "    return n"
   ]
  },
  {
   "cell_type": "code",
   "execution_count": null,
   "metadata": {
    "cell_style": "split"
   },
   "outputs": [],
   "source": [
    "# on ignore la dernière ligne\n",
    "# puisqu'on est arrivé au return\n",
    "fixed_abs(-10)"
   ]
  },
  {
   "cell_type": "code",
   "execution_count": null,
   "metadata": {
    "cell_style": "split"
   },
   "outputs": [],
   "source": [
    "fixed_abs(10)"
   ]
  },
  {
   "cell_type": "markdown",
   "metadata": {
    "slideshow": {
     "slide_type": "slide"
    }
   },
   "source": [
    "## variables locales"
   ]
  },
  {
   "cell_type": "markdown",
   "metadata": {},
   "source": [
    "à l'intérieur d'une fonction on peut naturellement utiliser des variables  \n",
    "la **portée** de ces variables est **limitée à la fonction**  \n",
    "ici les deux variables `var` sont des entités **distinctes**"
   ]
  },
  {
   "cell_type": "code",
   "execution_count": null,
   "metadata": {
    "cell_style": "split"
   },
   "outputs": [],
   "source": [
    "var = \"globale\"\n",
    "\n",
    "def polynom(n):\n",
    "    \"\"\"\n",
    "    polynome 4.x3 + 3.x2 + 2x + 1\n",
    "    sans mise à la puissance\n",
    "    \"\"\"\n",
    "    var = n         # var = n\n",
    "    resultat = 1\n",
    "    resultat += 2 * var\n",
    "    var = var * n   # var = n**2\n",
    "    resultat += 3 * var\n",
    "    var = var * n   # var = n**3\n",
    "    resultat += 4 * var\n",
    "    print(f\"dans def: var = {var}\")\n",
    "    return resultat"
   ]
  },
  {
   "cell_type": "code",
   "execution_count": null,
   "metadata": {
    "cell_style": "split"
   },
   "outputs": [],
   "source": [
    "polynom(1)"
   ]
  },
  {
   "cell_type": "code",
   "execution_count": null,
   "metadata": {
    "cell_style": "split"
   },
   "outputs": [],
   "source": [
    "polynom(10)"
   ]
  },
  {
   "cell_type": "code",
   "execution_count": null,
   "metadata": {
    "cell_style": "split"
   },
   "outputs": [],
   "source": [
    "var"
   ]
  },
  {
   "cell_type": "markdown",
   "metadata": {
    "slideshow": {
     "slide_type": "slide"
    }
   },
   "source": [
    "## appels imbriqués / récursion"
   ]
  },
  {
   "cell_type": "markdown",
   "metadata": {
    "cell_style": "center"
   },
   "source": [
    "bien sûr dans le code d'une fonction  \n",
    "on peut appeler d'autres fonctions  \n",
    "y compris la fonction courante : fonction **récursive**  (cf `fact.py`)  "
   ]
  },
  {
   "cell_type": "markdown",
   "metadata": {
    "cell_style": "center"
   },
   "source": [
    "lorsque `f` appelle `g`,  \n",
    "`f` est en quelque sorte *mise en suspens* pendant l'exécution de `g`  \n",
    "du coup il est nécessaire de conserver où en est `f`  \n",
    "\n",
    "* à quel point on en est dans `f`\n",
    "* la valeur des variables locales de `f`"
   ]
  },
  {
   "cell_type": "markdown",
   "metadata": {
    "slideshow": {
     "slide_type": "slide"
    }
   },
   "source": [
    "## pile d'exécution"
   ]
  },
  {
   "cell_type": "markdown",
   "metadata": {},
   "source": [
    "c'est le propos de la pile d'exécution  \n",
    "qui conserve la trace des appels imbriqués  \n",
    "\n",
    "illustrons cela avec https://pythontutor.com/  \n",
    "un site qui est très utile pour visualiser l'exécution de code simple"
   ]
  },
  {
   "cell_type": "code",
   "execution_count": null,
   "metadata": {
    "cell_style": "center"
   },
   "outputs": [],
   "source": [
    "# une magie pour créer des cellules sous pythontutor.com\n",
    "\n",
    "%load_ext ipythontutor"
   ]
  },
  {
   "cell_type": "code",
   "execution_count": null,
   "metadata": {
    "cell_style": "center",
    "slideshow": {
     "slide_type": "slide"
    }
   },
   "outputs": [],
   "source": [
    "%%ipythontutor height=500\n",
    "\n",
    "def fact(n):\n",
    "    if n <= 1:\n",
    "        return n\n",
    "    else:\n",
    "        return n * fact(n-1)\n",
    "    \n",
    "# pour visualiser la pile d'exécution\n",
    "\n",
    "x = fact(3)"
   ]
  },
  {
   "cell_type": "markdown",
   "metadata": {
    "slideshow": {
     "slide_type": "slide"
    }
   },
   "source": [
    "## exceptions"
   ]
  },
  {
   "cell_type": "markdown",
   "metadata": {},
   "source": [
    "le mot-clé `raise` permet de **lever une exception**  \n",
    "cela a pour effet d'interrompre la fonction courante  \n",
    "et de **dépiler** les appels jusqu'à  \n",
    "trouver un `except` qui **attrape l'exception**"
   ]
  },
  {
   "cell_type": "code",
   "execution_count": null,
   "metadata": {
    "cell_style": "center",
    "slideshow": {
     "slide_type": "slide"
    }
   },
   "outputs": [],
   "source": [
    "# une fonction qui va faire raise\n",
    "# mais pas tout de suite\n",
    "def time_bomb(n):\n",
    "    print(f\"in time_bomb({n})\")\n",
    "    if n > 0:\n",
    "        return time_bomb(n-1)\n",
    "    else:\n",
    "        raise OverflowError(\"BOOM\")"
   ]
  },
  {
   "cell_type": "code",
   "execution_count": null,
   "metadata": {
    "cell_style": "split",
    "slideshow": {
     "slide_type": "slide"
    },
    "tags": [
     "raises-exception"
    ]
   },
   "outputs": [],
   "source": [
    "# si personne n'attrape un raise\n",
    "# le contrôle retourne à l'OS\n",
    "\n",
    "def driver():\n",
    "    time_bomb(1)\n",
    "    print(\"will never pass here\")\n",
    "\n",
    "driver()     "
   ]
  },
  {
   "cell_type": "markdown",
   "metadata": {
    "cell_style": "split"
   },
   "source": [
    "![uncaught](../media/except-stack-uncaught.png)"
   ]
  },
  {
   "cell_type": "code",
   "execution_count": null,
   "metadata": {
    "cell_style": "split",
    "slideshow": {
     "slide_type": "slide"
    }
   },
   "outputs": [],
   "source": [
    "# cette fois tout est\n",
    "# sous contrôle\n",
    "def driver_try():\n",
    "    try:\n",
    "        time_bomb(2)\n",
    "    except Exception as exc:\n",
    "        print(f\"OOPS {type(exc)}, {exc}\")\n",
    "    print(\"will do this\")\n",
    "    \n",
    "driver_try()    "
   ]
  },
  {
   "cell_type": "markdown",
   "metadata": {
    "cell_style": "split"
   },
   "source": [
    "![try](../media/except-stack-try.png)"
   ]
  },
  {
   "cell_type": "markdown",
   "metadata": {
    "run_control": {
     "frozen": false,
     "read_only": false
    },
    "slideshow": {
     "slide_type": "slide"
    }
   },
   "source": [
    "## clause `except`"
   ]
  },
  {
   "cell_type": "markdown",
   "metadata": {
    "cell_style": "center"
   },
   "source": [
    "* la clause `raise` doit fournir un objet idoine  \n",
    "  ne peut pas par exemple faire `raise 1`\n",
    "\n",
    "* doit être une instance de `BaseException`  \n",
    "  (ou de l'une de ses sous-classes)\n",
    "\n",
    "* la clause `except` permet de n'attraper  \n",
    "  qu'une partie des exceptions possibles\n"
   ]
  },
  {
   "cell_type": "markdown",
   "metadata": {
    "slideshow": {
     "slide_type": "slide"
    }
   },
   "source": [
    "## passage d'arguments\n",
    "\n",
    "les mécanismes de définition et de passage de paramètres sont assez complexes (cf cours avancé)  \n",
    "pour cette introduction disons simplement qu'on peut définir des paramètres optionnels :  \n"
   ]
  },
  {
   "cell_type": "code",
   "execution_count": null,
   "metadata": {},
   "outputs": [],
   "source": [
    "# une fonction qui accepte un ou deux arguments\n",
    "def foo(obligatoire, optionnel=10):\n",
    "    print(f\"obligatoire={obligatoire} optionnel={optionnel}\")"
   ]
  },
  {
   "cell_type": "code",
   "execution_count": null,
   "metadata": {
    "cell_style": "split"
   },
   "outputs": [],
   "source": [
    "# avec deux arguments\n",
    "foo(100, 20)"
   ]
  },
  {
   "cell_type": "code",
   "execution_count": null,
   "metadata": {
    "cell_style": "split"
   },
   "outputs": [],
   "source": [
    "# ou avec un seul\n",
    "foo(1000)"
   ]
  },
  {
   "cell_type": "markdown",
   "metadata": {
    "slideshow": {
     "slide_type": "notes"
    }
   },
   "source": [
    "On verra un peu plus loin comment manipuler un nombre variable d'arguments; mais pour cela on a besoin d'etudier d'abord les types évolués de Python."
   ]
  },
  {
   "cell_type": "markdown",
   "metadata": {
    "cell_style": "center",
    "slideshow": {
     "slide_type": "slide"
    }
   },
   "source": [
    "## exercices"
   ]
  },
  {
   "cell_type": "markdown",
   "metadata": {
    "cell_style": "center"
   },
   "source": [
    "https://nbhosting.inria.fr/auditor/notebook/python3-s2:exos/w4/w4-s3-x1-pgcd  \n",
    "https://nbhosting.inria.fr/auditor/notebook/python3-s2:exos/w4/w4-s3-x4-power"
   ]
  },
  {
   "cell_type": "markdown",
   "metadata": {
    "cell_style": "split",
    "slideshow": {
     "slide_type": ""
    }
   },
   "source": [
    "écrire une fonction qui calcule la puissance entière\n",
    "\n",
    "```python\n",
    "def power(x, n):\n",
    "    \"\"\"\n",
    "    retourne x à la puissance n\n",
    "    en O(log(n))\n",
    "    \"\"\"\n",
    "    pass # votre code ici\n",
    "```\n",
    "  "
   ]
  },
  {
   "cell_type": "markdown",
   "metadata": {
    "cell_style": "split"
   },
   "source": [
    "écrire une fonction qui calcule de pgcd\n",
    "\n",
    "```python\n",
    "def pgcd(a, b):\n",
    "    \"\"\"\n",
    "    retourne le pgcd de a et b\n",
    "    par convention on admet que\n",
    "    pgcd(0, n) == pgcd(n, 0) = n\n",
    "    \"\"\"\n",
    "    pass\n",
    "```"
   ]
  }
 ],
 "metadata": {
  "celltoolbar": "Slideshow",
  "ipub": {
   "sphinx": {
    "toggle_input": true,
    "toggle_input_all": true,
    "toggle_output": true,
    "toggle_output_all": true
   }
  },
  "kernelspec": {
   "display_name": "Python 3",
   "language": "python",
   "name": "python3"
  },
  "language_info": {
   "codemirror_mode": {
    "name": "ipython",
    "version": 3
   },
   "file_extension": ".py",
   "mimetype": "text/x-python",
   "name": "python",
   "nbconvert_exporter": "python",
   "pygments_lexer": "ipython3",
   "version": "3.7.3"
  },
  "notebookname": "fonctions",
  "rise": {
   "autolaunch": true,
   "slideNumber": "c/t",
   "start_slideshow_at": "selected",
   "theme": "sky",
   "transition": "cube"
  },
  "version": "1.0"
 },
 "nbformat": 4,
 "nbformat_minor": 4
}
