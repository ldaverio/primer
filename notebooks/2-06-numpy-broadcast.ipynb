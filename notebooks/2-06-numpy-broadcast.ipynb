{
 "cells": [
  {
   "cell_type": "markdown",
   "metadata": {},
   "source": [
    "<div class=\"licence\">\n",
    "<span>Licence CC BY-NC-ND</span>\n",
    "<span>Valérie Roy</span>\n",
    "<span><img src=\"../media/ensmp-25-alpha.png\" /></span>\n",
    "</div>"
   ]
  },
  {
   "cell_type": "code",
   "execution_count": null,
   "metadata": {},
   "outputs": [],
   "source": [
    "import numpy as np"
   ]
  },
  {
   "cell_type": "markdown",
   "metadata": {
    "slideshow": {
     "slide_type": "slide"
    }
   },
   "source": [
    "# Broadcasting is useful when we work with arrays of different sizes"
   ]
  },
  {
   "cell_type": "markdown",
   "metadata": {
    "slideshow": {
     "slide_type": "slide"
    }
   },
   "source": [
    "## reminder about the dimensions\n",
    "\n",
    "**dimension 2**: *shape=(r, c)* is a matrix with *r* **rows** and *c* **columns**\n",
    "   \n",
    "   \n",
    "**dimension 3**: *shape=(p, r, c)* is *p* matrices with *r* **rows** and *c* **columns**\n",
    "   \n",
    "   \n",
    "**greater dimension**: *shape=(g1, ..., gn, r, c)* the two last are *r* **rows**, and *c* **columns**"
   ]
  },
  {
   "cell_type": "markdown",
   "metadata": {
    "slideshow": {
     "slide_type": "slide"
    }
   },
   "source": [
    "## operations on matrices of the same shape\n",
    "operations are done on an **element-by-element** basis:\n",
    "   - the matrices must have **the same shape**"
   ]
  },
  {
   "cell_type": "code",
   "execution_count": null,
   "metadata": {
    "cell_style": "split"
   },
   "outputs": [],
   "source": [
    "a = np.arange(0, 10).reshape(2, 5)\n",
    "a"
   ]
  },
  {
   "cell_type": "code",
   "execution_count": null,
   "metadata": {
    "cell_style": "split"
   },
   "outputs": [],
   "source": [
    "b = np.arange(10, 20).reshape(2, 5)\n",
    "b"
   ]
  },
  {
   "cell_type": "code",
   "execution_count": null,
   "metadata": {
    "cell_style": "center"
   },
   "outputs": [],
   "source": [
    "a * b # element-by-element product"
   ]
  },
  {
   "cell_type": "markdown",
   "metadata": {
    "slideshow": {
     "slide_type": "slide"
    }
   },
   "source": [
    "##  operation when matrices have different *but consistent* sizes\n",
    "   - *numpy* **relaxes** the constraint i.e. the matrices can have **different shapes**\n",
    "   - **but** the **shapes** must meet **certain conditions**"
   ]
  },
  {
   "cell_type": "markdown",
   "metadata": {
    "slideshow": {
     "slide_type": "slide"
    }
   },
   "source": [
    "example"
   ]
  },
  {
   "cell_type": "code",
   "execution_count": null,
   "metadata": {
    "cell_style": "split"
   },
   "outputs": [],
   "source": [
    "a = np.arange(0, 4)\n",
    "print(f'a={a}')\n",
    "b = np.array([10])\n",
    "print(f'b={b}')"
   ]
  },
  {
   "cell_type": "code",
   "execution_count": null,
   "metadata": {
    "cell_style": "split"
   },
   "outputs": [],
   "source": [
    "a + b"
   ]
  },
  {
   "cell_type": "markdown",
   "metadata": {},
   "source": [
    "to **add** [0, 1, 2, 3] and [10]\n",
    "   - [10] is **expended** to **match the size** of *a*\n",
    "   - *b* became [10, 10, 10, 10]"
   ]
  },
  {
   "cell_type": "markdown",
   "metadata": {
    "slideshow": {
     "slide_type": "slide"
    }
   },
   "source": [
    "## broadcasting **rules**\n",
    "\n",
    "   - when arrays **do not have** the **same** shape\n",
    "   - *numpy* **expands** the arrays (*when possible*)\n",
    "   - for an **element-by-element** operation to **take place**"
   ]
  },
  {
   "cell_type": "markdown",
   "metadata": {
    "slideshow": {
     "slide_type": "slide"
    }
   },
   "source": [
    "## rules:   \n",
    "   \n",
    "   - dimensions are **compared** from **right** to **left**\n",
    "   - *columns*, then *rows*, then *frames*, ...\n",
    "   \n",
    "   \n",
    "   - dimensions are taken **pairwise**\n",
    "   - broadcasting is **possible**\n",
    "      1. when the **dimensions** are **identical**\n",
    "      1. when **one** is $1$\n",
    "      \n",
    "      \n",
    "   \n",
    "   - https://docs.scipy.org/doc/numpy/user/basics.broadcasting.html\n",
    "   - http://scipy.github.io/old-wiki/pages/EricsBroadcastingDoc"
   ]
  },
  {
   "cell_type": "markdown",
   "metadata": {
    "slideshow": {
     "slide_type": "slide"
    }
   },
   "source": [
    "## example when sizes are consistent"
   ]
  },
  {
   "cell_type": "code",
   "execution_count": null,
   "metadata": {
    "cell_style": "split",
    "slideshow": {
     "slide_type": "slide"
    }
   },
   "outputs": [],
   "source": [
    "a = 100 * np.ones((2, 3))\n",
    "print('a =', a)\n",
    "print()\n",
    "\n",
    "b = 4\n",
    "print('b =', b)\n",
    "print()\n",
    "\n",
    "print('a + b =', a + b)"
   ]
  },
  {
   "cell_type": "markdown",
   "metadata": {
    "cell_style": "split"
   },
   "source": [
    "the **shape** of $a$ is $(2_a, 3_a)$  \n",
    "the **shape** of $b$ is $(1_b)$  \n",
    "\n",
    "$3_a$ is **compared** to $1_b$  \n",
    "$b$ **became** $[4, 4, 4]$ (1 row, size $3$)     \n",
    "the **shape** of $b$ is **now** $(1_b, 3_b)$  \n",
    "\n",
    "$2_a$ is **compared** to $1_b$  \n",
    "$b$ **became** $[[4, 4, 4], [4, 4, 4]]$ (2 rows)  \n",
    "the **shape** of $b$ is **now** $(2_b, 3_b)$  \n",
    "\n",
    "**a** and **b** can **now** be added"
   ]
  },
  {
   "cell_type": "markdown",
   "metadata": {
    "slideshow": {
     "slide_type": "slide"
    }
   },
   "source": [
    "## example when sizes are not consistant"
   ]
  },
  {
   "cell_type": "code",
   "execution_count": null,
   "metadata": {
    "cell_style": "split",
    "slideshow": {
     "slide_type": "slide"
    }
   },
   "outputs": [],
   "source": [
    "a = 100 * np.ones((2, 3))\n",
    "print(a)\n",
    "\n",
    "print()\n",
    "\n",
    "b = 10 * np.ones((2, 4))\n",
    "print(b)\n",
    "\n",
    "try:\n",
    "    a + b\n",
    "except ValueError as e:\n",
    "    print(e)"
   ]
  },
  {
   "cell_type": "markdown",
   "metadata": {
    "cell_style": "split"
   },
   "source": [
    "the **shape** of $a$ is $(2_a, 3_a)$  \n",
    "the **shape** of $b$ is $(2_b, 4_b)$\n",
    "   \n",
    "**broadcasting** compares **pairs** $(3_a, 4_b)$  \n",
    "\n",
    "$3_a$ is **compared** to $4_b$  \n",
    "**no rule** can be applied !!\n",
    "   \n",
    "shapes **cannot** be **broadcast**\n",
    "\n",
    "the operation **does not follow the rules** $\\Rightarrow$ **it fails** (raising a ValueError)"
   ]
  },
  {
   "cell_type": "markdown",
   "metadata": {
    "slideshow": {
     "slide_type": "slide"
    }
   },
   "source": [
    "## a more complex example"
   ]
  },
  {
   "cell_type": "markdown",
   "metadata": {
    "slideshow": {
     "slide_type": "slide"
    }
   },
   "source": [
    " **[OPTIONAL SLIDE]**"
   ]
  },
  {
   "cell_type": "code",
   "execution_count": null,
   "metadata": {
    "cell_style": "split",
    "slideshow": {
     "slide_type": "-"
    }
   },
   "outputs": [],
   "source": [
    "a = 9 * np.ones((1, 3))\n",
    "print(f'a = {a}')\n",
    "print()\n",
    "\n",
    "b = 100 * np.ones((2, 1))\n",
    "print(f'b = {b}')\n",
    "\n",
    "print()\n",
    "print(f'a+b = {a + b}')"
   ]
  },
  {
   "cell_type": "markdown",
   "metadata": {
    "cell_style": "split"
   },
   "source": [
    "the **shape** of $a$ is $(1_a, 3_a)$  \n",
    "the **shape** of $b$ is $(2_b, 1_b)$\n",
    "      \n",
    "**broadcasting** compares $3_a$ and $1_b$  \n",
    "$b$ is broadcast to **fit** $3$ **columns**  \n",
    "[[100., 100., 100.], [100., 100., 100.],]\n",
    "\n",
    "broadcasting compare $(1_a, 2_b)$   \n",
    "$a$ is broadcast to **fit** $2$ **rows**  \n",
    "[[9., 9., 9.], [9., 9., 9.],] ok **now** for a+b"
   ]
  },
  {
   "cell_type": "markdown",
   "metadata": {
    "slideshow": {
     "slide_type": "slide"
    }
   },
   "source": [
    "## Broadcasting and vectorization  **[IMPORTANT]**\n",
    "   - broadcasting is **very efficient**\n",
    "   - the broadcast elements are **not actually created in memory**\n",
    "   - broadcasting is based on **optimized C code**\n",
    "   - it has the **same efficiency** as **vectorized** operations"
   ]
  }
 ],
 "metadata": {
  "celltoolbar": "Slideshow",
  "ipub": {
   "sphinx": {
    "toggle_input": true,
    "toggle_input_all": true,
    "toggle_output": true,
    "toggle_output_all": true
   }
  },
  "kernelspec": {
   "display_name": "Python 3",
   "language": "python",
   "name": "python3"
  },
  "language_info": {
   "codemirror_mode": {
    "name": "ipython",
    "version": 3
   },
   "file_extension": ".py",
   "mimetype": "text/x-python",
   "name": "python",
   "nbconvert_exporter": "python",
   "pygments_lexer": "ipython3",
   "version": "3.7.3"
  },
  "notebookname": "broadcasting",
  "rise": {
   "autolaunch": true,
   "slideNumber": "c/t",
   "start_slideshow_at": "selected",
   "theme": "sky",
   "transition": "cube"
  },
  "version": "1.0"
 },
 "nbformat": 4,
 "nbformat_minor": 4
}
